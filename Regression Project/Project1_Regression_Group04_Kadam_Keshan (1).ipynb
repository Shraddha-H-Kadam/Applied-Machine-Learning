{
 "cells": [
  {
   "cell_type": "markdown",
   "metadata": {},
   "source": [
    "# MIS 6341.002 - Project 1 - Group 04\n",
    "\n",
    "Authors:\n",
    "1. Shraddha Hemant Kadam (SXK190069)\n",
    "2. Yash Rajkumar Keshan (YRK190000)"
   ]
  },
  {
   "cell_type": "markdown",
   "metadata": {},
   "source": [
    "# Regression Problem: Prediction of Price for Airbnb's in New York City, Dataset from 2019\n",
    "Target: To predict the prices of the Airbnb listings in New York City\n",
    "The dataset contains listings of activities and metrics of NYC for 2019. It includes information on hosts, geographical availability, necessary metrics to make predictions and draw conclusions."
   ]
  },
  {
   "cell_type": "markdown",
   "metadata": {},
   "source": [
    "# Libraries Imported"
   ]
  },
  {
   "cell_type": "code",
   "execution_count": 5,
   "metadata": {},
   "outputs": [],
   "source": [
    "import numpy as np\n",
    "import pandas as pd\n",
    "import matplotlib.pyplot as plt\n",
    "import seaborn as sns\n",
    "from sklearn import linear_model\n",
    "from sklearn.linear_model import Lasso, Ridge\n",
    "from sklearn.model_selection import train_test_split, GridSearchCV,cross_val_score, KFold\n",
    "from sklearn.preprocessing import StandardScaler,PolynomialFeatures, MinMaxScaler, PowerTransformer, LabelEncoder\n",
    "from sklearn.svm import SVC\n",
    "from termcolor import colored\n",
    "from sklearn.neighbors import KNeighborsRegressor\n",
    "from sklearn.metrics import mean_squared_error\n",
    "from sklearn.svm import SVR\n",
    "import time\n",
    "from scipy import stats\n",
    "from scipy.stats import norm, skew\n",
    "from sklearn.pipeline import Pipeline\n",
    "from sklearn.ensemble import GradientBoostingRegressor\n",
    "from lightgbm import LGBMRegressor\n",
    "import warnings\n",
    "warnings.filterwarnings('ignore')"
   ]
  },
  {
   "cell_type": "code",
   "execution_count": 6,
   "metadata": {
    "scrolled": true
   },
   "outputs": [
    {
     "data": {
      "text/html": [
       "<div>\n",
       "<style scoped>\n",
       "    .dataframe tbody tr th:only-of-type {\n",
       "        vertical-align: middle;\n",
       "    }\n",
       "\n",
       "    .dataframe tbody tr th {\n",
       "        vertical-align: top;\n",
       "    }\n",
       "\n",
       "    .dataframe thead th {\n",
       "        text-align: right;\n",
       "    }\n",
       "</style>\n",
       "<table border=\"1\" class=\"dataframe\">\n",
       "  <thead>\n",
       "    <tr style=\"text-align: right;\">\n",
       "      <th></th>\n",
       "      <th>id</th>\n",
       "      <th>name</th>\n",
       "      <th>host_id</th>\n",
       "      <th>host_name</th>\n",
       "      <th>neighbourhood_group</th>\n",
       "      <th>neighbourhood</th>\n",
       "      <th>latitude</th>\n",
       "      <th>longitude</th>\n",
       "      <th>room_type</th>\n",
       "      <th>price</th>\n",
       "      <th>minimum_nights</th>\n",
       "      <th>number_of_reviews</th>\n",
       "      <th>last_review</th>\n",
       "      <th>reviews_per_month</th>\n",
       "      <th>calculated_host_listings_count</th>\n",
       "      <th>availability_365</th>\n",
       "    </tr>\n",
       "  </thead>\n",
       "  <tbody>\n",
       "    <tr>\n",
       "      <th>0</th>\n",
       "      <td>2539</td>\n",
       "      <td>Clean &amp; quiet apt home by the park</td>\n",
       "      <td>2787</td>\n",
       "      <td>John</td>\n",
       "      <td>Brooklyn</td>\n",
       "      <td>Kensington</td>\n",
       "      <td>40.64749</td>\n",
       "      <td>-73.97237</td>\n",
       "      <td>Private room</td>\n",
       "      <td>149</td>\n",
       "      <td>1</td>\n",
       "      <td>9</td>\n",
       "      <td>2018-10-19</td>\n",
       "      <td>0.21</td>\n",
       "      <td>6</td>\n",
       "      <td>365</td>\n",
       "    </tr>\n",
       "    <tr>\n",
       "      <th>1</th>\n",
       "      <td>2595</td>\n",
       "      <td>Skylit Midtown Castle</td>\n",
       "      <td>2845</td>\n",
       "      <td>Jennifer</td>\n",
       "      <td>Manhattan</td>\n",
       "      <td>Midtown</td>\n",
       "      <td>40.75362</td>\n",
       "      <td>-73.98377</td>\n",
       "      <td>Entire home/apt</td>\n",
       "      <td>225</td>\n",
       "      <td>1</td>\n",
       "      <td>45</td>\n",
       "      <td>2019-05-21</td>\n",
       "      <td>0.38</td>\n",
       "      <td>2</td>\n",
       "      <td>355</td>\n",
       "    </tr>\n",
       "    <tr>\n",
       "      <th>2</th>\n",
       "      <td>3647</td>\n",
       "      <td>THE VILLAGE OF HARLEM....NEW YORK !</td>\n",
       "      <td>4632</td>\n",
       "      <td>Elisabeth</td>\n",
       "      <td>Manhattan</td>\n",
       "      <td>Harlem</td>\n",
       "      <td>40.80902</td>\n",
       "      <td>-73.94190</td>\n",
       "      <td>Private room</td>\n",
       "      <td>150</td>\n",
       "      <td>3</td>\n",
       "      <td>0</td>\n",
       "      <td>NaN</td>\n",
       "      <td>NaN</td>\n",
       "      <td>1</td>\n",
       "      <td>365</td>\n",
       "    </tr>\n",
       "    <tr>\n",
       "      <th>3</th>\n",
       "      <td>3831</td>\n",
       "      <td>Cozy Entire Floor of Brownstone</td>\n",
       "      <td>4869</td>\n",
       "      <td>LisaRoxanne</td>\n",
       "      <td>Brooklyn</td>\n",
       "      <td>Clinton Hill</td>\n",
       "      <td>40.68514</td>\n",
       "      <td>-73.95976</td>\n",
       "      <td>Entire home/apt</td>\n",
       "      <td>89</td>\n",
       "      <td>1</td>\n",
       "      <td>270</td>\n",
       "      <td>2019-07-05</td>\n",
       "      <td>4.64</td>\n",
       "      <td>1</td>\n",
       "      <td>194</td>\n",
       "    </tr>\n",
       "    <tr>\n",
       "      <th>4</th>\n",
       "      <td>5022</td>\n",
       "      <td>Entire Apt: Spacious Studio/Loft by central park</td>\n",
       "      <td>7192</td>\n",
       "      <td>Laura</td>\n",
       "      <td>Manhattan</td>\n",
       "      <td>East Harlem</td>\n",
       "      <td>40.79851</td>\n",
       "      <td>-73.94399</td>\n",
       "      <td>Entire home/apt</td>\n",
       "      <td>80</td>\n",
       "      <td>10</td>\n",
       "      <td>9</td>\n",
       "      <td>2018-11-19</td>\n",
       "      <td>0.10</td>\n",
       "      <td>1</td>\n",
       "      <td>0</td>\n",
       "    </tr>\n",
       "  </tbody>\n",
       "</table>\n",
       "</div>"
      ],
      "text/plain": [
       "     id                                              name  host_id  \\\n",
       "0  2539                Clean & quiet apt home by the park     2787   \n",
       "1  2595                             Skylit Midtown Castle     2845   \n",
       "2  3647               THE VILLAGE OF HARLEM....NEW YORK !     4632   \n",
       "3  3831                   Cozy Entire Floor of Brownstone     4869   \n",
       "4  5022  Entire Apt: Spacious Studio/Loft by central park     7192   \n",
       "\n",
       "     host_name neighbourhood_group neighbourhood  latitude  longitude  \\\n",
       "0         John            Brooklyn    Kensington  40.64749  -73.97237   \n",
       "1     Jennifer           Manhattan       Midtown  40.75362  -73.98377   \n",
       "2    Elisabeth           Manhattan        Harlem  40.80902  -73.94190   \n",
       "3  LisaRoxanne            Brooklyn  Clinton Hill  40.68514  -73.95976   \n",
       "4        Laura           Manhattan   East Harlem  40.79851  -73.94399   \n",
       "\n",
       "         room_type  price  minimum_nights  number_of_reviews last_review  \\\n",
       "0     Private room    149               1                  9  2018-10-19   \n",
       "1  Entire home/apt    225               1                 45  2019-05-21   \n",
       "2     Private room    150               3                  0         NaN   \n",
       "3  Entire home/apt     89               1                270  2019-07-05   \n",
       "4  Entire home/apt     80              10                  9  2018-11-19   \n",
       "\n",
       "   reviews_per_month  calculated_host_listings_count  availability_365  \n",
       "0               0.21                               6               365  \n",
       "1               0.38                               2               355  \n",
       "2                NaN                               1               365  \n",
       "3               4.64                               1               194  \n",
       "4               0.10                               1                 0  "
      ]
     },
     "execution_count": 6,
     "metadata": {},
     "output_type": "execute_result"
    }
   ],
   "source": [
    "df = pd.read_csv(\"AB_NYC_2019.csv\") #Reading Relevent Data\n",
    "df.head(5)"
   ]
  },
  {
   "cell_type": "code",
   "execution_count": 7,
   "metadata": {},
   "outputs": [],
   "source": [
    "seed = 0 # Setting Seed for consistency"
   ]
  },
  {
   "cell_type": "code",
   "execution_count": 8,
   "metadata": {},
   "outputs": [
    {
     "data": {
      "text/html": [
       "<div>\n",
       "<style scoped>\n",
       "    .dataframe tbody tr th:only-of-type {\n",
       "        vertical-align: middle;\n",
       "    }\n",
       "\n",
       "    .dataframe tbody tr th {\n",
       "        vertical-align: top;\n",
       "    }\n",
       "\n",
       "    .dataframe thead th {\n",
       "        text-align: right;\n",
       "    }\n",
       "</style>\n",
       "<table border=\"1\" class=\"dataframe\">\n",
       "  <thead>\n",
       "    <tr style=\"text-align: right;\">\n",
       "      <th></th>\n",
       "      <th>id</th>\n",
       "      <th>name</th>\n",
       "      <th>host_id</th>\n",
       "      <th>host_name</th>\n",
       "      <th>neighbourhood_group</th>\n",
       "      <th>neighbourhood</th>\n",
       "      <th>latitude</th>\n",
       "      <th>longitude</th>\n",
       "      <th>room_type</th>\n",
       "      <th>price</th>\n",
       "      <th>minimum_nights</th>\n",
       "      <th>number_of_reviews</th>\n",
       "      <th>last_review</th>\n",
       "      <th>reviews_per_month</th>\n",
       "      <th>calculated_host_listings_count</th>\n",
       "      <th>availability_365</th>\n",
       "    </tr>\n",
       "  </thead>\n",
       "  <tbody>\n",
       "    <tr>\n",
       "      <th>47287</th>\n",
       "      <td>35676174</td>\n",
       "      <td>HOTEL ROOM STYLE STUDIO IN THE EAST VILLAGE</td>\n",
       "      <td>2860131</td>\n",
       "      <td>Kodi</td>\n",
       "      <td>Manhattan</td>\n",
       "      <td>East Village</td>\n",
       "      <td>40.72488</td>\n",
       "      <td>-73.98317</td>\n",
       "      <td>Entire home/apt</td>\n",
       "      <td>120</td>\n",
       "      <td>2</td>\n",
       "      <td>1</td>\n",
       "      <td>2019-06-24</td>\n",
       "      <td>1.00</td>\n",
       "      <td>1</td>\n",
       "      <td>6</td>\n",
       "    </tr>\n",
       "    <tr>\n",
       "      <th>27989</th>\n",
       "      <td>21880580</td>\n",
       "      <td>Spacious Garden Apt in Clinton Hill/Ft Greene</td>\n",
       "      <td>29478455</td>\n",
       "      <td>Mary</td>\n",
       "      <td>Brooklyn</td>\n",
       "      <td>Clinton Hill</td>\n",
       "      <td>40.69049</td>\n",
       "      <td>-73.96842</td>\n",
       "      <td>Entire home/apt</td>\n",
       "      <td>115</td>\n",
       "      <td>3</td>\n",
       "      <td>4</td>\n",
       "      <td>2019-01-17</td>\n",
       "      <td>0.21</td>\n",
       "      <td>1</td>\n",
       "      <td>2</td>\n",
       "    </tr>\n",
       "    <tr>\n",
       "      <th>14609</th>\n",
       "      <td>11532518</td>\n",
       "      <td>1 Bedroom Apt East Village/USQ</td>\n",
       "      <td>24319977</td>\n",
       "      <td>Charles</td>\n",
       "      <td>Manhattan</td>\n",
       "      <td>East Village</td>\n",
       "      <td>40.72895</td>\n",
       "      <td>-73.98558</td>\n",
       "      <td>Entire home/apt</td>\n",
       "      <td>200</td>\n",
       "      <td>1</td>\n",
       "      <td>0</td>\n",
       "      <td>NaN</td>\n",
       "      <td>NaN</td>\n",
       "      <td>1</td>\n",
       "      <td>0</td>\n",
       "    </tr>\n",
       "    <tr>\n",
       "      <th>24202</th>\n",
       "      <td>19501640</td>\n",
       "      <td>Sunny shared apartment in Harlem</td>\n",
       "      <td>45103075</td>\n",
       "      <td>Ian</td>\n",
       "      <td>Manhattan</td>\n",
       "      <td>Harlem</td>\n",
       "      <td>40.81880</td>\n",
       "      <td>-73.94505</td>\n",
       "      <td>Private room</td>\n",
       "      <td>38</td>\n",
       "      <td>3</td>\n",
       "      <td>0</td>\n",
       "      <td>NaN</td>\n",
       "      <td>NaN</td>\n",
       "      <td>1</td>\n",
       "      <td>0</td>\n",
       "    </tr>\n",
       "    <tr>\n",
       "      <th>42269</th>\n",
       "      <td>32810768</td>\n",
       "      <td>Feel at home at this beautiful 2Br apartment!</td>\n",
       "      <td>29959226</td>\n",
       "      <td>Elad</td>\n",
       "      <td>Queens</td>\n",
       "      <td>Kew Gardens Hills</td>\n",
       "      <td>40.72876</td>\n",
       "      <td>-73.81967</td>\n",
       "      <td>Entire home/apt</td>\n",
       "      <td>65</td>\n",
       "      <td>13</td>\n",
       "      <td>1</td>\n",
       "      <td>2019-05-25</td>\n",
       "      <td>0.67</td>\n",
       "      <td>1</td>\n",
       "      <td>0</td>\n",
       "    </tr>\n",
       "    <tr>\n",
       "      <th>...</th>\n",
       "      <td>...</td>\n",
       "      <td>...</td>\n",
       "      <td>...</td>\n",
       "      <td>...</td>\n",
       "      <td>...</td>\n",
       "      <td>...</td>\n",
       "      <td>...</td>\n",
       "      <td>...</td>\n",
       "      <td>...</td>\n",
       "      <td>...</td>\n",
       "      <td>...</td>\n",
       "      <td>...</td>\n",
       "      <td>...</td>\n",
       "      <td>...</td>\n",
       "      <td>...</td>\n",
       "      <td>...</td>\n",
       "    </tr>\n",
       "    <tr>\n",
       "      <th>2322</th>\n",
       "      <td>1126492</td>\n",
       "      <td>Andy Phillips</td>\n",
       "      <td>6180052</td>\n",
       "      <td>Andrian</td>\n",
       "      <td>Brooklyn</td>\n",
       "      <td>Fort Greene</td>\n",
       "      <td>40.68769</td>\n",
       "      <td>-73.97490</td>\n",
       "      <td>Private room</td>\n",
       "      <td>99</td>\n",
       "      <td>5</td>\n",
       "      <td>4</td>\n",
       "      <td>2017-09-29</td>\n",
       "      <td>0.17</td>\n",
       "      <td>1</td>\n",
       "      <td>250</td>\n",
       "    </tr>\n",
       "    <tr>\n",
       "      <th>3274</th>\n",
       "      <td>1954450</td>\n",
       "      <td>Spacious Sunny Designer 1 Bedroom in East Village</td>\n",
       "      <td>2266169</td>\n",
       "      <td>Erika</td>\n",
       "      <td>Manhattan</td>\n",
       "      <td>East Village</td>\n",
       "      <td>40.72187</td>\n",
       "      <td>-73.98083</td>\n",
       "      <td>Entire home/apt</td>\n",
       "      <td>150</td>\n",
       "      <td>2</td>\n",
       "      <td>221</td>\n",
       "      <td>2019-06-18</td>\n",
       "      <td>3.30</td>\n",
       "      <td>1</td>\n",
       "      <td>215</td>\n",
       "    </tr>\n",
       "    <tr>\n",
       "      <th>38331</th>\n",
       "      <td>30193408</td>\n",
       "      <td>*NO GUEST SERVICE FEE* Beekman Tower One Bedro...</td>\n",
       "      <td>205031545</td>\n",
       "      <td>Red Awning</td>\n",
       "      <td>Manhattan</td>\n",
       "      <td>Midtown</td>\n",
       "      <td>40.75380</td>\n",
       "      <td>-73.96564</td>\n",
       "      <td>Entire home/apt</td>\n",
       "      <td>714</td>\n",
       "      <td>28</td>\n",
       "      <td>0</td>\n",
       "      <td>NaN</td>\n",
       "      <td>NaN</td>\n",
       "      <td>49</td>\n",
       "      <td>257</td>\n",
       "    </tr>\n",
       "    <tr>\n",
       "      <th>47989</th>\n",
       "      <td>36026259</td>\n",
       "      <td>1 bdr in heart of Harlem</td>\n",
       "      <td>6150742</td>\n",
       "      <td>Anna</td>\n",
       "      <td>Manhattan</td>\n",
       "      <td>Harlem</td>\n",
       "      <td>40.81761</td>\n",
       "      <td>-73.94434</td>\n",
       "      <td>Private room</td>\n",
       "      <td>80</td>\n",
       "      <td>1</td>\n",
       "      <td>1</td>\n",
       "      <td>2019-07-07</td>\n",
       "      <td>1.00</td>\n",
       "      <td>1</td>\n",
       "      <td>86</td>\n",
       "    </tr>\n",
       "    <tr>\n",
       "      <th>41526</th>\n",
       "      <td>32285578</td>\n",
       "      <td>Spacious NYC experience</td>\n",
       "      <td>242330603</td>\n",
       "      <td>Nellie</td>\n",
       "      <td>Queens</td>\n",
       "      <td>Richmond Hill</td>\n",
       "      <td>40.67863</td>\n",
       "      <td>-73.82648</td>\n",
       "      <td>Entire home/apt</td>\n",
       "      <td>129</td>\n",
       "      <td>180</td>\n",
       "      <td>0</td>\n",
       "      <td>NaN</td>\n",
       "      <td>NaN</td>\n",
       "      <td>1</td>\n",
       "      <td>365</td>\n",
       "    </tr>\n",
       "  </tbody>\n",
       "</table>\n",
       "<p>1956 rows × 16 columns</p>\n",
       "</div>"
      ],
      "text/plain": [
       "             id                                               name    host_id  \\\n",
       "47287  35676174        HOTEL ROOM STYLE STUDIO IN THE EAST VILLAGE    2860131   \n",
       "27989  21880580      Spacious Garden Apt in Clinton Hill/Ft Greene   29478455   \n",
       "14609  11532518                     1 Bedroom Apt East Village/USQ   24319977   \n",
       "24202  19501640                   Sunny shared apartment in Harlem   45103075   \n",
       "42269  32810768      Feel at home at this beautiful 2Br apartment!   29959226   \n",
       "...         ...                                                ...        ...   \n",
       "2322    1126492                                      Andy Phillips    6180052   \n",
       "3274    1954450  Spacious Sunny Designer 1 Bedroom in East Village    2266169   \n",
       "38331  30193408  *NO GUEST SERVICE FEE* Beekman Tower One Bedro...  205031545   \n",
       "47989  36026259                           1 bdr in heart of Harlem    6150742   \n",
       "41526  32285578                            Spacious NYC experience  242330603   \n",
       "\n",
       "        host_name neighbourhood_group      neighbourhood  latitude  longitude  \\\n",
       "47287        Kodi           Manhattan       East Village  40.72488  -73.98317   \n",
       "27989        Mary            Brooklyn       Clinton Hill  40.69049  -73.96842   \n",
       "14609     Charles           Manhattan       East Village  40.72895  -73.98558   \n",
       "24202         Ian           Manhattan             Harlem  40.81880  -73.94505   \n",
       "42269        Elad              Queens  Kew Gardens Hills  40.72876  -73.81967   \n",
       "...           ...                 ...                ...       ...        ...   \n",
       "2322      Andrian            Brooklyn        Fort Greene  40.68769  -73.97490   \n",
       "3274        Erika           Manhattan       East Village  40.72187  -73.98083   \n",
       "38331  Red Awning           Manhattan            Midtown  40.75380  -73.96564   \n",
       "47989        Anna           Manhattan             Harlem  40.81761  -73.94434   \n",
       "41526      Nellie              Queens      Richmond Hill  40.67863  -73.82648   \n",
       "\n",
       "             room_type  price  minimum_nights  number_of_reviews last_review  \\\n",
       "47287  Entire home/apt    120               2                  1  2019-06-24   \n",
       "27989  Entire home/apt    115               3                  4  2019-01-17   \n",
       "14609  Entire home/apt    200               1                  0         NaN   \n",
       "24202     Private room     38               3                  0         NaN   \n",
       "42269  Entire home/apt     65              13                  1  2019-05-25   \n",
       "...                ...    ...             ...                ...         ...   \n",
       "2322      Private room     99               5                  4  2017-09-29   \n",
       "3274   Entire home/apt    150               2                221  2019-06-18   \n",
       "38331  Entire home/apt    714              28                  0         NaN   \n",
       "47989     Private room     80               1                  1  2019-07-07   \n",
       "41526  Entire home/apt    129             180                  0         NaN   \n",
       "\n",
       "       reviews_per_month  calculated_host_listings_count  availability_365  \n",
       "47287               1.00                               1                 6  \n",
       "27989               0.21                               1                 2  \n",
       "14609                NaN                               1                 0  \n",
       "24202                NaN                               1                 0  \n",
       "42269               0.67                               1                 0  \n",
       "...                  ...                             ...               ...  \n",
       "2322                0.17                               1               250  \n",
       "3274                3.30                               1               215  \n",
       "38331                NaN                              49               257  \n",
       "47989               1.00                               1                86  \n",
       "41526                NaN                               1               365  \n",
       "\n",
       "[1956 rows x 16 columns]"
      ]
     },
     "execution_count": 8,
     "metadata": {},
     "output_type": "execute_result"
    }
   ],
   "source": [
    "df_trimmed = df.sample(frac = 0.04) #Selecting a sample from the data to run the models\n",
    "df_trimmed"
   ]
  },
  {
   "cell_type": "code",
   "execution_count": 9,
   "metadata": {},
   "outputs": [],
   "source": [
    "train, test = train_test_split(df_trimmed, test_size=0.25, random_state=seed, shuffle=True)"
   ]
  },
  {
   "cell_type": "markdown",
   "metadata": {},
   "source": [
    "# Generating Percentage of Missing Values"
   ]
  },
  {
   "cell_type": "code",
   "execution_count": 10,
   "metadata": {},
   "outputs": [
    {
     "data": {
      "text/html": [
       "<div>\n",
       "<style scoped>\n",
       "    .dataframe tbody tr th:only-of-type {\n",
       "        vertical-align: middle;\n",
       "    }\n",
       "\n",
       "    .dataframe tbody tr th {\n",
       "        vertical-align: top;\n",
       "    }\n",
       "\n",
       "    .dataframe thead th {\n",
       "        text-align: right;\n",
       "    }\n",
       "</style>\n",
       "<table border=\"1\" class=\"dataframe\">\n",
       "  <thead>\n",
       "    <tr style=\"text-align: right;\">\n",
       "      <th></th>\n",
       "      <th>Total</th>\n",
       "      <th>Percentage</th>\n",
       "    </tr>\n",
       "  </thead>\n",
       "  <tbody>\n",
       "    <tr>\n",
       "      <th>reviews_per_month</th>\n",
       "      <td>292</td>\n",
       "      <td>0.199046</td>\n",
       "    </tr>\n",
       "    <tr>\n",
       "      <th>last_review</th>\n",
       "      <td>292</td>\n",
       "      <td>0.199046</td>\n",
       "    </tr>\n",
       "    <tr>\n",
       "      <th>name</th>\n",
       "      <td>1</td>\n",
       "      <td>0.000682</td>\n",
       "    </tr>\n",
       "    <tr>\n",
       "      <th>availability_365</th>\n",
       "      <td>0</td>\n",
       "      <td>0.000000</td>\n",
       "    </tr>\n",
       "    <tr>\n",
       "      <th>calculated_host_listings_count</th>\n",
       "      <td>0</td>\n",
       "      <td>0.000000</td>\n",
       "    </tr>\n",
       "    <tr>\n",
       "      <th>number_of_reviews</th>\n",
       "      <td>0</td>\n",
       "      <td>0.000000</td>\n",
       "    </tr>\n",
       "    <tr>\n",
       "      <th>minimum_nights</th>\n",
       "      <td>0</td>\n",
       "      <td>0.000000</td>\n",
       "    </tr>\n",
       "    <tr>\n",
       "      <th>price</th>\n",
       "      <td>0</td>\n",
       "      <td>0.000000</td>\n",
       "    </tr>\n",
       "    <tr>\n",
       "      <th>room_type</th>\n",
       "      <td>0</td>\n",
       "      <td>0.000000</td>\n",
       "    </tr>\n",
       "    <tr>\n",
       "      <th>longitude</th>\n",
       "      <td>0</td>\n",
       "      <td>0.000000</td>\n",
       "    </tr>\n",
       "    <tr>\n",
       "      <th>latitude</th>\n",
       "      <td>0</td>\n",
       "      <td>0.000000</td>\n",
       "    </tr>\n",
       "    <tr>\n",
       "      <th>neighbourhood</th>\n",
       "      <td>0</td>\n",
       "      <td>0.000000</td>\n",
       "    </tr>\n",
       "    <tr>\n",
       "      <th>neighbourhood_group</th>\n",
       "      <td>0</td>\n",
       "      <td>0.000000</td>\n",
       "    </tr>\n",
       "    <tr>\n",
       "      <th>host_name</th>\n",
       "      <td>0</td>\n",
       "      <td>0.000000</td>\n",
       "    </tr>\n",
       "    <tr>\n",
       "      <th>host_id</th>\n",
       "      <td>0</td>\n",
       "      <td>0.000000</td>\n",
       "    </tr>\n",
       "    <tr>\n",
       "      <th>id</th>\n",
       "      <td>0</td>\n",
       "      <td>0.000000</td>\n",
       "    </tr>\n",
       "  </tbody>\n",
       "</table>\n",
       "</div>"
      ],
      "text/plain": [
       "                                Total  Percentage\n",
       "reviews_per_month                 292    0.199046\n",
       "last_review                       292    0.199046\n",
       "name                                1    0.000682\n",
       "availability_365                    0    0.000000\n",
       "calculated_host_listings_count      0    0.000000\n",
       "number_of_reviews                   0    0.000000\n",
       "minimum_nights                      0    0.000000\n",
       "price                               0    0.000000\n",
       "room_type                           0    0.000000\n",
       "longitude                           0    0.000000\n",
       "latitude                            0    0.000000\n",
       "neighbourhood                       0    0.000000\n",
       "neighbourhood_group                 0    0.000000\n",
       "host_name                           0    0.000000\n",
       "host_id                             0    0.000000\n",
       "id                                  0    0.000000"
      ]
     },
     "execution_count": 10,
     "metadata": {},
     "output_type": "execute_result"
    }
   ],
   "source": [
    "total = train.isnull().sum().sort_values(ascending = False)\n",
    "percentage = (train.isnull().sum()/train.isnull().count()).sort_values(ascending=False)\n",
    "missing_data = pd.concat([total,percentage],axis = 1,keys = ['Total','Percentage'])\n",
    "missing_data.head(23)"
   ]
  },
  {
   "cell_type": "code",
   "execution_count": 11,
   "metadata": {},
   "outputs": [],
   "source": [
    "def missing_data(data): # Creating a Function to replace missing data   \n",
    "    missing_datatypes = [j for i in data.columns for j in ['-','?','--','@','NA','NaN','na','Na',' '] \n",
    "                         if j in data[i].unique()]\n",
    "    if len(missing_datatypes) > 0 and data.isnull().values.any() == False:\n",
    "        print(set(missing_datatypes))\n",
    "    elif len(missing_datatypes) > 0 and data.isnull().values.any() == True:\n",
    "        missing_datatypes.append('NaN')\n",
    "        print(set(missing_datatypes))\n",
    "    elif len(missing_datatypes) == 0 and data.isnull().values.any() == True:\n",
    "        print('NaN')\n",
    "    else:\n",
    "        print('No missing data founded')"
   ]
  },
  {
   "cell_type": "code",
   "execution_count": 12,
   "metadata": {},
   "outputs": [
    {
     "name": "stdout",
     "output_type": "stream",
     "text": [
      "NaN\n"
     ]
    }
   ],
   "source": [
    "missing_data(train) # Missing data update in Trainig dataset"
   ]
  },
  {
   "cell_type": "code",
   "execution_count": 13,
   "metadata": {},
   "outputs": [],
   "source": [
    "train = train[['neighbourhood_group', 'neighbourhood', 'room_type', 'minimum_nights', 'price']]\n",
    "test = test[['neighbourhood_group', 'neighbourhood', 'room_type', 'minimum_nights', 'price']]"
   ]
  },
  {
   "cell_type": "code",
   "execution_count": 14,
   "metadata": {},
   "outputs": [
    {
     "data": {
      "image/png": "[encoded data removed]",
      "text/plain": [
       "<Figure size 360x360 with 2 Axes>"
      ]
     },
     "metadata": {
      "needs_background": "light"
     },
     "output_type": "display_data"
    }
   ],
   "source": [
    "data_distribution = train.hist(figsize=(5,5)) # Plotting Count distribution of nights vs price"
   ]
  },
  {
   "cell_type": "code",
   "execution_count": 15,
   "metadata": {},
   "outputs": [
    {
     "data": {
      "image/png": "[encoded data removed]",
      "text/plain": [
       "<Figure size 432x288 with 1 Axes>"
      ]
     },
     "metadata": {
      "needs_background": "light"
     },
     "output_type": "display_data"
    },
    {
     "data": {
      "image/png": "[encoded data removed]",
      "text/plain": [
       "<Figure size 432x288 with 1 Axes>"
      ]
     },
     "metadata": {
      "needs_background": "light"
     },
     "output_type": "display_data"
    }
   ],
   "source": [
    "sns.distplot(train['price'], fit=norm);\n",
    "fig = plt.figure()\n",
    "res = stats.probplot(train['price'], plot=plt)"
   ]
  },
  {
   "cell_type": "code",
   "execution_count": 16,
   "metadata": {},
   "outputs": [
    {
     "data": {
      "text/plain": [
       "minimum_nights   -0.012864\n",
       "Name: price, dtype: float64"
      ]
     },
     "execution_count": 16,
     "metadata": {},
     "output_type": "execute_result"
    }
   ],
   "source": [
    "train.corr()['price'].sort_values().drop('price')"
   ]
  },
  {
   "cell_type": "code",
   "execution_count": 17,
   "metadata": {},
   "outputs": [
    {
     "data": {
      "text/plain": [
       "<AxesSubplot:>"
      ]
     },
     "execution_count": 17,
     "metadata": {},
     "output_type": "execute_result"
    },
    {
     "data": {
      "image/png": "[encoded data removed]",
      "text/plain": [
       "<Figure size 576x576 with 2 Axes>"
      ]
     },
     "metadata": {
      "needs_background": "light"
     },
     "output_type": "display_data"
    }
   ],
   "source": [
    "# generating correlation matrix for min_nights vs price\n",
    "f, ax = plt.subplots(figsize = (8,8))\n",
    "sns.heatmap(train.corr(),annot = False, vmax=.8)"
   ]
  },
  {
   "cell_type": "code",
   "execution_count": 18,
   "metadata": {},
   "outputs": [
    {
     "data": {
      "image/png": "[encoded data removed]",
      "text/plain": [
       "<Figure size 216x216 with 6 Axes>"
      ]
     },
     "metadata": {
      "needs_background": "light"
     },
     "output_type": "display_data"
    }
   ],
   "source": [
    "sns.pairplot(train, height = 1.5) # Scatter-plot to display distribution of values\n",
    "plt.show()"
   ]
  },
  {
   "cell_type": "code",
   "execution_count": 19,
   "metadata": {},
   "outputs": [
    {
     "data": {
      "text/plain": [
       "<AxesSubplot:xlabel='minimum_nights', ylabel='price'>"
      ]
     },
     "execution_count": 19,
     "metadata": {},
     "output_type": "execute_result"
    },
    {
     "data": {
      "image/png": "[encoded data removed]",
      "text/plain": [
       "<Figure size 432x288 with 1 Axes>"
      ]
     },
     "metadata": {
      "needs_background": "light"
     },
     "output_type": "display_data"
    }
   ],
   "source": [
    "var = 'minimum_nights'\n",
    "data = pd.concat([train['price'], train[var]], axis=1)\n",
    "data.plot.scatter(x=var, y='price', alpha=0.3)"
   ]
  },
  {
   "cell_type": "code",
   "execution_count": 20,
   "metadata": {},
   "outputs": [
    {
     "data": {
      "image/png": "[encoded data removed]",
      "text/plain": [
       "<Figure size 360x216 with 2 Axes>"
      ]
     },
     "metadata": {
      "needs_background": "light"
     },
     "output_type": "display_data"
    }
   ],
   "source": [
    "data_distribution = train.hist(figsize=(5, 3))"
   ]
  },
  {
   "cell_type": "code",
   "execution_count": 21,
   "metadata": {},
   "outputs": [
    {
     "data": {
      "image/png": "[encoded data removed]",
      "text/plain": [
       "<Figure size 432x288 with 1 Axes>"
      ]
     },
     "metadata": {
      "needs_background": "light"
     },
     "output_type": "display_data"
    },
    {
     "data": {
      "image/png": "[encoded data removed]",
      "text/plain": [
       "<Figure size 432x288 with 1 Axes>"
      ]
     },
     "metadata": {
      "needs_background": "light"
     },
     "output_type": "display_data"
    }
   ],
   "source": [
    "sns.distplot(train['price'], fit=norm);\n",
    "fig = plt.figure()\n",
    "res = stats.probplot(train['price'], plot=plt)"
   ]
  },
  {
   "cell_type": "code",
   "execution_count": 22,
   "metadata": {},
   "outputs": [],
   "source": [
    "X_train = train.drop(['price'], axis=1)\n",
    "y_train = train['price'].values\n",
    "X_test = test.drop(['price'], axis=1)\n",
    "y_test= test['price'].values"
   ]
  },
  {
   "cell_type": "markdown",
   "metadata": {},
   "source": [
    "# Removing Skewness in the Dataset"
   ]
  },
  {
   "cell_type": "code",
   "execution_count": 23,
   "metadata": {},
   "outputs": [],
   "source": [
    "num_cols = X_train._get_numeric_data().columns.tolist()\n",
    "pt = PowerTransformer(method='yeo-johnson')\n",
    "X_train[num_cols]= pt.fit_transform(X_train[num_cols])\n",
    "X_test[num_cols]= pt.transform(X_test[num_cols])\n",
    "y_train = pt.fit_transform(y_train.reshape(-1, 1))\n",
    "y_test = pt.transform(y_test.reshape(-1, 1))"
   ]
  },
  {
   "cell_type": "code",
   "execution_count": 24,
   "metadata": {},
   "outputs": [
    {
     "data": {
      "image/png": "[encoded data removed]",
      "text/plain": [
       "<Figure size 360x360 with 1 Axes>"
      ]
     },
     "metadata": {
      "needs_background": "light"
     },
     "output_type": "display_data"
    }
   ],
   "source": [
    "# Distribution of minimum_nights to book using histogram\n",
    "data_distribution = X_train.hist(figsize=(5,5))"
   ]
  },
  {
   "cell_type": "code",
   "execution_count": 25,
   "metadata": {},
   "outputs": [
    {
     "data": {
      "image/png": "[encoded data removed]",
      "text/plain": [
       "<Figure size 432x288 with 1 Axes>"
      ]
     },
     "metadata": {
      "needs_background": "light"
     },
     "output_type": "display_data"
    },
    {
     "data": {
      "image/png": "[encoded data removed]",
      "text/plain": [
       "<Figure size 432x288 with 1 Axes>"
      ]
     },
     "metadata": {
      "needs_background": "light"
     },
     "output_type": "display_data"
    }
   ],
   "source": [
    "# Generating Distribution and probablit plot for target variable Price\n",
    "y_train_plot = train.copy()\n",
    "y_train_plot['price'] = y_train\n",
    "sns.distplot(y_train_plot['price'], fit=norm);\n",
    "fig = plt.figure()\n",
    "res = stats.probplot(y_train_plot['price'], plot=plt)"
   ]
  },
  {
   "cell_type": "code",
   "execution_count": 26,
   "metadata": {},
   "outputs": [],
   "source": [
    "le = LabelEncoder()\n",
    "cat_cols_train = X_train.select_dtypes(include=['string', 'object']).columns.tolist()\n",
    "cat_cols_test = X_test.select_dtypes(include=['string', 'object']).columns.tolist()\n",
    "for col in cat_cols_train:\n",
    "    X_train[col] = le.fit_transform(X_train[col].astype('string')) # fitting the test dataset due to unseen labels in the train dataset\n",
    "for col in cat_cols_test:\n",
    "    X_test[col] = le.fit_transform(X_test[col].astype('string'))"
   ]
  },
  {
   "cell_type": "code",
   "execution_count": 27,
   "metadata": {},
   "outputs": [
    {
     "data": {
      "text/html": [
       "<div>\n",
       "<style scoped>\n",
       "    .dataframe tbody tr th:only-of-type {\n",
       "        vertical-align: middle;\n",
       "    }\n",
       "\n",
       "    .dataframe tbody tr th {\n",
       "        vertical-align: top;\n",
       "    }\n",
       "\n",
       "    .dataframe thead th {\n",
       "        text-align: right;\n",
       "    }\n",
       "</style>\n",
       "<table border=\"1\" class=\"dataframe\">\n",
       "  <thead>\n",
       "    <tr style=\"text-align: right;\">\n",
       "      <th></th>\n",
       "      <th>neighbourhood_group</th>\n",
       "      <th>neighbourhood</th>\n",
       "      <th>room_type</th>\n",
       "      <th>minimum_nights</th>\n",
       "    </tr>\n",
       "  </thead>\n",
       "  <tbody>\n",
       "    <tr>\n",
       "      <th>15124</th>\n",
       "      <td>2</td>\n",
       "      <td>38</td>\n",
       "      <td>0</td>\n",
       "      <td>0.511051</td>\n",
       "    </tr>\n",
       "    <tr>\n",
       "      <th>48111</th>\n",
       "      <td>0</td>\n",
       "      <td>21</td>\n",
       "      <td>1</td>\n",
       "      <td>-1.275234</td>\n",
       "    </tr>\n",
       "    <tr>\n",
       "      <th>33443</th>\n",
       "      <td>1</td>\n",
       "      <td>32</td>\n",
       "      <td>0</td>\n",
       "      <td>0.511051</td>\n",
       "    </tr>\n",
       "  </tbody>\n",
       "</table>\n",
       "</div>"
      ],
      "text/plain": [
       "       neighbourhood_group  neighbourhood  room_type  minimum_nights\n",
       "15124                    2             38          0        0.511051\n",
       "48111                    0             21          1       -1.275234\n",
       "33443                    1             32          0        0.511051"
      ]
     },
     "execution_count": 27,
     "metadata": {},
     "output_type": "execute_result"
    }
   ],
   "source": [
    "X_train.head(3)"
   ]
  },
  {
   "cell_type": "code",
   "execution_count": 28,
   "metadata": {},
   "outputs": [
    {
     "data": {
      "text/html": [
       "<div>\n",
       "<style scoped>\n",
       "    .dataframe tbody tr th:only-of-type {\n",
       "        vertical-align: middle;\n",
       "    }\n",
       "\n",
       "    .dataframe tbody tr th {\n",
       "        vertical-align: top;\n",
       "    }\n",
       "\n",
       "    .dataframe thead th {\n",
       "        text-align: right;\n",
       "    }\n",
       "</style>\n",
       "<table border=\"1\" class=\"dataframe\">\n",
       "  <thead>\n",
       "    <tr style=\"text-align: right;\">\n",
       "      <th></th>\n",
       "      <th>neighbourhood_group</th>\n",
       "      <th>neighbourhood</th>\n",
       "      <th>room_type</th>\n",
       "      <th>minimum_nights</th>\n",
       "    </tr>\n",
       "  </thead>\n",
       "  <tbody>\n",
       "    <tr>\n",
       "      <th>13631</th>\n",
       "      <td>1</td>\n",
       "      <td>33</td>\n",
       "      <td>1</td>\n",
       "      <td>-0.326829</td>\n",
       "    </tr>\n",
       "    <tr>\n",
       "      <th>45869</th>\n",
       "      <td>1</td>\n",
       "      <td>96</td>\n",
       "      <td>0</td>\n",
       "      <td>-0.326829</td>\n",
       "    </tr>\n",
       "    <tr>\n",
       "      <th>3600</th>\n",
       "      <td>2</td>\n",
       "      <td>90</td>\n",
       "      <td>0</td>\n",
       "      <td>1.036401</td>\n",
       "    </tr>\n",
       "  </tbody>\n",
       "</table>\n",
       "</div>"
      ],
      "text/plain": [
       "       neighbourhood_group  neighbourhood  room_type  minimum_nights\n",
       "13631                    1             33          1       -0.326829\n",
       "45869                    1             96          0       -0.326829\n",
       "3600                     2             90          0        1.036401"
      ]
     },
     "execution_count": 28,
     "metadata": {},
     "output_type": "execute_result"
    }
   ],
   "source": [
    "X_test.head(3)"
   ]
  },
  {
   "cell_type": "code",
   "execution_count": 29,
   "metadata": {},
   "outputs": [],
   "source": [
    "X_train['price'] = y_train.ravel().tolist() #Extracting price from training dataset\n",
    "X_train.drop(X_train[(X_train['price']<-4)].index, inplace=True) # Removing column price from training dataset\n",
    "y_train = X_train['price'] # Passing price to y_train for testing\n",
    "X_train.drop('price', axis=1, inplace=True)"
   ]
  },
  {
   "cell_type": "code",
   "execution_count": 75,
   "metadata": {},
   "outputs": [
    {
     "data": {
      "text/html": [
       "<div>\n",
       "<style scoped>\n",
       "    .dataframe tbody tr th:only-of-type {\n",
       "        vertical-align: middle;\n",
       "    }\n",
       "\n",
       "    .dataframe tbody tr th {\n",
       "        vertical-align: top;\n",
       "    }\n",
       "\n",
       "    .dataframe thead th {\n",
       "        text-align: right;\n",
       "    }\n",
       "</style>\n",
       "<table border=\"1\" class=\"dataframe\">\n",
       "  <thead>\n",
       "    <tr style=\"text-align: right;\">\n",
       "      <th></th>\n",
       "      <th>neighbourhood_group</th>\n",
       "      <th>neighbourhood</th>\n",
       "      <th>room_type</th>\n",
       "      <th>minimum_nights</th>\n",
       "    </tr>\n",
       "  </thead>\n",
       "  <tbody>\n",
       "    <tr>\n",
       "      <th>40778</th>\n",
       "      <td>2</td>\n",
       "      <td>119</td>\n",
       "      <td>0</td>\n",
       "      <td>1.036401</td>\n",
       "    </tr>\n",
       "    <tr>\n",
       "      <th>9252</th>\n",
       "      <td>1</td>\n",
       "      <td>15</td>\n",
       "      <td>1</td>\n",
       "      <td>-0.326829</td>\n",
       "    </tr>\n",
       "    <tr>\n",
       "      <th>28031</th>\n",
       "      <td>1</td>\n",
       "      <td>126</td>\n",
       "      <td>0</td>\n",
       "      <td>0.511051</td>\n",
       "    </tr>\n",
       "    <tr>\n",
       "      <th>747</th>\n",
       "      <td>1</td>\n",
       "      <td>6</td>\n",
       "      <td>1</td>\n",
       "      <td>1.297340</td>\n",
       "    </tr>\n",
       "    <tr>\n",
       "      <th>36199</th>\n",
       "      <td>1</td>\n",
       "      <td>49</td>\n",
       "      <td>0</td>\n",
       "      <td>0.185628</td>\n",
       "    </tr>\n",
       "  </tbody>\n",
       "</table>\n",
       "</div>"
      ],
      "text/plain": [
       "       neighbourhood_group  neighbourhood  room_type  minimum_nights\n",
       "40778                    2            119          0        1.036401\n",
       "9252                     1             15          1       -0.326829\n",
       "28031                    1            126          0        0.511051\n",
       "747                      1              6          1        1.297340\n",
       "36199                    1             49          0        0.185628"
      ]
     },
     "execution_count": 75,
     "metadata": {},
     "output_type": "execute_result"
    }
   ],
   "source": [
    "X_train.head(5)"
   ]
  },
  {
   "cell_type": "code",
   "execution_count": 74,
   "metadata": {},
   "outputs": [
    {
     "data": {
      "text/plain": [
       "array([ 0.19082657, -1.24455405, -0.0806774 , ..., -0.11160699,\n",
       "       -0.80507209, -0.53756752])"
      ]
     },
     "execution_count": 74,
     "metadata": {},
     "output_type": "execute_result"
    }
   ],
   "source": [
    "y_train"
   ]
  },
  {
   "cell_type": "code",
   "execution_count": 72,
   "metadata": {},
   "outputs": [
    {
     "data": {
      "text/html": [
       "<div>\n",
       "<style scoped>\n",
       "    .dataframe tbody tr th:only-of-type {\n",
       "        vertical-align: middle;\n",
       "    }\n",
       "\n",
       "    .dataframe tbody tr th {\n",
       "        vertical-align: top;\n",
       "    }\n",
       "\n",
       "    .dataframe thead th {\n",
       "        text-align: right;\n",
       "    }\n",
       "</style>\n",
       "<table border=\"1\" class=\"dataframe\">\n",
       "  <thead>\n",
       "    <tr style=\"text-align: right;\">\n",
       "      <th></th>\n",
       "      <th>neighbourhood_group</th>\n",
       "      <th>neighbourhood</th>\n",
       "      <th>room_type</th>\n",
       "      <th>minimum_nights</th>\n",
       "    </tr>\n",
       "  </thead>\n",
       "  <tbody>\n",
       "    <tr>\n",
       "      <th>13631</th>\n",
       "      <td>1</td>\n",
       "      <td>33</td>\n",
       "      <td>1</td>\n",
       "      <td>-0.326829</td>\n",
       "    </tr>\n",
       "    <tr>\n",
       "      <th>45869</th>\n",
       "      <td>1</td>\n",
       "      <td>96</td>\n",
       "      <td>0</td>\n",
       "      <td>-0.326829</td>\n",
       "    </tr>\n",
       "    <tr>\n",
       "      <th>3600</th>\n",
       "      <td>2</td>\n",
       "      <td>90</td>\n",
       "      <td>0</td>\n",
       "      <td>1.036401</td>\n",
       "    </tr>\n",
       "    <tr>\n",
       "      <th>795</th>\n",
       "      <td>2</td>\n",
       "      <td>45</td>\n",
       "      <td>0</td>\n",
       "      <td>0.185628</td>\n",
       "    </tr>\n",
       "    <tr>\n",
       "      <th>19165</th>\n",
       "      <td>2</td>\n",
       "      <td>27</td>\n",
       "      <td>1</td>\n",
       "      <td>0.185628</td>\n",
       "    </tr>\n",
       "  </tbody>\n",
       "</table>\n",
       "</div>"
      ],
      "text/plain": [
       "       neighbourhood_group  neighbourhood  room_type  minimum_nights\n",
       "13631                    1             33          1       -0.326829\n",
       "45869                    1             96          0       -0.326829\n",
       "3600                     2             90          0        1.036401\n",
       "795                      2             45          0        0.185628\n",
       "19165                    2             27          1        0.185628"
      ]
     },
     "execution_count": 72,
     "metadata": {},
     "output_type": "execute_result"
    }
   ],
   "source": [
    "X_test.head(5)"
   ]
  },
  {
   "cell_type": "code",
   "execution_count": 33,
   "metadata": {},
   "outputs": [
    {
     "data": {
      "text/plain": [
       "array([[ 0.71102212],\n",
       "       [ 2.42154423],\n",
       "       [ 1.37633059],\n",
       "       [ 0.71102212],\n",
       "       [-0.53756752],\n",
       "       [-0.65253385],\n",
       "       [ 0.50505196],\n",
       "       [-1.44096969],\n",
       "       [ 0.54960805],\n",
       "       [-0.91721219],\n",
       "       [-1.44096969],\n",
       "       [ 1.00088754],\n",
       "       [ 1.101311  ],\n",
       "       [-1.24455405],\n",
       "       [-0.65253385],\n",
       "       [-0.65253385],\n",
       "       [-1.1382245 ],\n",
       "       [-0.53756752],\n",
       "       [-2.17979266],\n",
       "       [-0.24387381],\n",
       "       [ 0.50505196],\n",
       "       [-0.91721219],\n",
       "       [-0.85999693],\n",
       "       [-0.0806774 ],\n",
       "       [-0.43194246],\n",
       "       [ 0.8824149 ],\n",
       "       [ 0.24977113],\n",
       "       [-0.0806774 ],\n",
       "       [-0.43194246],\n",
       "       [-0.51573971],\n",
       "       [ 1.99117347],\n",
       "       [-0.29739025],\n",
       "       [-0.14335112],\n",
       "       [-0.9467328 ],\n",
       "       [-0.55976801],\n",
       "       [-1.07147223],\n",
       "       [-2.05096288],\n",
       "       [-0.0806774 ],\n",
       "       [ 1.15488969],\n",
       "       [ 0.67296285],\n",
       "       [ 1.15488969],\n",
       "       [-0.0806774 ],\n",
       "       [-0.65253385],\n",
       "       [ 2.14559975],\n",
       "       [ 1.36516298],\n",
       "       [ 0.28371231],\n",
       "       [ 0.06295064],\n",
       "       [ 1.02836318],\n",
       "       [-0.33438959],\n",
       "       [ 1.3070945 ],\n",
       "       [ 0.8824149 ],\n",
       "       [-0.65253385],\n",
       "       [ 1.070736  ],\n",
       "       [ 1.79571252],\n",
       "       [ 0.8824149 ],\n",
       "       [-1.44096969],\n",
       "       [ 0.24977113],\n",
       "       [-0.67678038],\n",
       "       [-1.7675387 ],\n",
       "       [ 0.93752253],\n",
       "       [ 0.8824149 ],\n",
       "       [-1.61902216],\n",
       "       [ 0.50505196],\n",
       "       [ 1.02836318],\n",
       "       [-0.53756752],\n",
       "       [ 0.50505196],\n",
       "       [ 0.54084511],\n",
       "       [-1.24455405],\n",
       "       [-0.0806774 ],\n",
       "       [-0.45238485],\n",
       "       [-1.82034606],\n",
       "       [-0.0806774 ],\n",
       "       [-0.77841857],\n",
       "       [ 0.63344421],\n",
       "       [ 0.06295064],\n",
       "       [ 2.07252281],\n",
       "       [ 1.67569492],\n",
       "       [ 0.4959127 ],\n",
       "       [ 1.15488969],\n",
       "       [-0.26145727],\n",
       "       [-0.85999693],\n",
       "       [ 0.60071   ],\n",
       "       [-1.07147223],\n",
       "       [ 0.30578061],\n",
       "       [-0.91721219],\n",
       "       [-0.15954069],\n",
       "       [ 0.71102212],\n",
       "       [ 0.50505196],\n",
       "       [ 0.8824149 ],\n",
       "       [-0.24387381],\n",
       "       [ 1.53469657],\n",
       "       [ 3.26411203],\n",
       "       [ 0.87609615],\n",
       "       [ 0.8824149 ],\n",
       "       [ 1.27863779],\n",
       "       [-1.66696937],\n",
       "       [ 1.88993773],\n",
       "       [ 0.94345774],\n",
       "       [ 0.39998054],\n",
       "       [ 0.66517901],\n",
       "       [ 0.8824149 ],\n",
       "       [ 0.71102212],\n",
       "       [ 0.04935066],\n",
       "       [ 1.51918273],\n",
       "       [-0.09604271],\n",
       "       [-1.24455405],\n",
       "       [-0.80507209],\n",
       "       [-1.20823584],\n",
       "       [-0.43194246],\n",
       "       [-0.83225847],\n",
       "       [-0.67678038],\n",
       "       [-0.65253385],\n",
       "       [ 0.06295064],\n",
       "       [-0.77841857],\n",
       "       [-0.33438959],\n",
       "       [-0.72663786],\n",
       "       [-0.80507209],\n",
       "       [-1.07147223],\n",
       "       [-0.43194246],\n",
       "       [ 0.86333583],\n",
       "       [ 0.66517901],\n",
       "       [ 0.12866192],\n",
       "       [-0.43194246],\n",
       "       [-1.71644528],\n",
       "       [-1.24455405],\n",
       "       [-0.80507209],\n",
       "       [-0.35330696],\n",
       "       [-0.00668361],\n",
       "       [-2.63838763],\n",
       "       [ 1.26615938],\n",
       "       [ 1.79571252],\n",
       "       [-0.91721219],\n",
       "       [-1.71644528],\n",
       "       [-0.03573124],\n",
       "       [ 0.8824149 ],\n",
       "       [ 2.0081851 ],\n",
       "       [ 1.47416328],\n",
       "       [-0.47315867],\n",
       "       [ 0.35910507],\n",
       "       [ 1.72589745],\n",
       "       [ 1.36516298],\n",
       "       [-0.9467328 ],\n",
       "       [-2.11412194],\n",
       "       [ 0.19082657],\n",
       "       [ 0.8824149 ],\n",
       "       [-0.14335112],\n",
       "       [-0.24387381],\n",
       "       [ 0.71102212],\n",
       "       [-1.44096969],\n",
       "       [ 0.50505196],\n",
       "       [-1.71644528],\n",
       "       [ 1.15488969],\n",
       "       [-0.0806774 ],\n",
       "       [ 0.8824149 ],\n",
       "       [-1.44096969],\n",
       "       [-0.26145727],\n",
       "       [-0.53756752],\n",
       "       [-0.37251286],\n",
       "       [ 0.30578061],\n",
       "       [-0.31575313],\n",
       "       [-0.20944138],\n",
       "       [ 0.47739677],\n",
       "       [-1.66696937],\n",
       "       [-1.24455405],\n",
       "       [ 0.64146946],\n",
       "       [-0.62872275],\n",
       "       [ 0.8824149 ],\n",
       "       [ 0.71102212],\n",
       "       [ 1.79571252],\n",
       "       [ 0.37973335],\n",
       "       [-0.91721219],\n",
       "       [-0.15954069],\n",
       "       [ 1.03913535],\n",
       "       [-1.7675387 ],\n",
       "       [-1.44096969],\n",
       "       [ 0.50505196],\n",
       "       [-0.15954069],\n",
       "       [ 0.63344421],\n",
       "       [ 0.66517901],\n",
       "       [ 1.36516298],\n",
       "       [ 1.20103982],\n",
       "       [-0.65253385],\n",
       "       [ 0.28371231],\n",
       "       [-2.31942169],\n",
       "       [-1.93153183],\n",
       "       [ 0.8824149 ],\n",
       "       [-0.0806774 ],\n",
       "       [ 0.00757707],\n",
       "       [ 1.45411483],\n",
       "       [-0.53756752],\n",
       "       [ 1.04978663],\n",
       "       [-1.52739203],\n",
       "       [-1.24455405],\n",
       "       [ 1.13091807],\n",
       "       [-1.44096969],\n",
       "       [ 0.4585561 ],\n",
       "       [ 1.02836318],\n",
       "       [ 0.71102212],\n",
       "       [ 0.19082657],\n",
       "       [-0.0806774 ],\n",
       "       [ 0.50505196],\n",
       "       [-0.15954069],\n",
       "       [ 0.86333583],\n",
       "       [ 0.87609615],\n",
       "       [ 0.50505196],\n",
       "       [-0.91721219],\n",
       "       [-0.77841857],\n",
       "       [ 0.19082657],\n",
       "       [ 0.59236367],\n",
       "       [ 1.64668923],\n",
       "       [-0.85999693],\n",
       "       [-1.07147223],\n",
       "       [-0.33438959],\n",
       "       [-0.77841857],\n",
       "       [ 0.81058553],\n",
       "       [ 0.74771513],\n",
       "       [-0.09604271],\n",
       "       [-0.77841857],\n",
       "       [-1.20823584],\n",
       "       [-0.15954069],\n",
       "       [ 0.6172055 ],\n",
       "       [ 0.19082657],\n",
       "       [-1.24455405],\n",
       "       [ 0.0216673 ],\n",
       "       [-0.43194246],\n",
       "       [ 0.78312667],\n",
       "       [ 0.30578061],\n",
       "       [-0.53756752],\n",
       "       [ 0.28371231],\n",
       "       [ 0.29480106],\n",
       "       [ 0.19082657],\n",
       "       [-0.53756752],\n",
       "       [ 2.86266298],\n",
       "       [-0.77841857],\n",
       "       [-0.65253385],\n",
       "       [ 1.2055295 ],\n",
       "       [ 0.0216673 ],\n",
       "       [-0.0806774 ],\n",
       "       [ 0.8824149 ],\n",
       "       [ 0.97260026],\n",
       "       [ 0.26119937],\n",
       "       [ 0.4585561 ],\n",
       "       [-0.65253385],\n",
       "       [ 0.8824149 ],\n",
       "       [ 0.29480106],\n",
       "       [-0.43194246],\n",
       "       [ 1.60821294],\n",
       "       [ 0.50505196],\n",
       "       [-0.51573971],\n",
       "       [ 0.58395038],\n",
       "       [ 1.15488969],\n",
       "       [ 0.30578061],\n",
       "       [ 0.50505196],\n",
       "       [-0.91721219],\n",
       "       [-0.0806774 ],\n",
       "       [-1.24455405],\n",
       "       [ 0.74048164],\n",
       "       [-0.75227963],\n",
       "       [-0.3920152 ],\n",
       "       [ 0.24977113],\n",
       "       [ 0.50505196],\n",
       "       [ 0.8824149 ],\n",
       "       [-1.24455405],\n",
       "       [-0.53756752],\n",
       "       [-0.53756752],\n",
       "       [-0.15954069],\n",
       "       [-0.53756752],\n",
       "       [-0.53756752],\n",
       "       [ 0.28371231],\n",
       "       [ 0.8173342 ],\n",
       "       [ 1.15488969],\n",
       "       [ 0.50505196],\n",
       "       [ 1.101311  ],\n",
       "       [-0.43194246],\n",
       "       [ 1.02836318],\n",
       "       [ 0.50505196],\n",
       "       [ 0.8173342 ],\n",
       "       [ 0.50505196],\n",
       "       [-0.45238485],\n",
       "       [-1.66696937],\n",
       "       [ 1.53469657],\n",
       "       [ 0.35910507],\n",
       "       [ 0.39998054],\n",
       "       [-0.65253385],\n",
       "       [ 0.71102212],\n",
       "       [-0.24387381],\n",
       "       [ 0.87609615],\n",
       "       [-1.24455405],\n",
       "       [-1.44096969],\n",
       "       [ 1.03913535],\n",
       "       [ 0.19082657],\n",
       "       [ 0.50505196],\n",
       "       [-2.47157146],\n",
       "       [ 1.53469657],\n",
       "       [-0.77841857],\n",
       "       [-0.2792939 ],\n",
       "       [ 1.88993773],\n",
       "       [ 1.28686123],\n",
       "       [ 1.60821294],\n",
       "       [-0.43194246],\n",
       "       [ 1.26615938],\n",
       "       [ 0.52309903],\n",
       "       [-1.66696937],\n",
       "       [ 0.50505196],\n",
       "       [-0.0806774 ],\n",
       "       [ 0.4959127 ],\n",
       "       [-0.77841857],\n",
       "       [-0.33438959],\n",
       "       [-1.93153183],\n",
       "       [ 0.06295064],\n",
       "       [-0.91721219],\n",
       "       [-0.0806774 ],\n",
       "       [-0.3920152 ],\n",
       "       [ 0.81058553],\n",
       "       [-1.24455405],\n",
       "       [ 0.27251241],\n",
       "       [-1.24455405],\n",
       "       [ 0.50505196],\n",
       "       [-0.43194246],\n",
       "       [-0.45238485],\n",
       "       [ 1.04978663],\n",
       "       [ 2.89648593],\n",
       "       [-0.11160699],\n",
       "       [ 0.78312667],\n",
       "       [ 0.74771513],\n",
       "       [ 2.14559975],\n",
       "       [-1.66696937],\n",
       "       [ 1.67310056],\n",
       "       [ 0.30578061],\n",
       "       [-1.35925129],\n",
       "       [-0.77841857],\n",
       "       [-1.7675387 ],\n",
       "       [-1.66696937],\n",
       "       [-0.15954069],\n",
       "       [ 0.12866192],\n",
       "       [ 1.05506768],\n",
       "       [ 1.36516298],\n",
       "       [ 0.8824149 ],\n",
       "       [-0.33438959],\n",
       "       [-0.24387381],\n",
       "       [-2.24815823],\n",
       "       [ 0.30578061],\n",
       "       [ 0.67296285],\n",
       "       [ 0.71102212],\n",
       "       [-0.65253385],\n",
       "       [-1.07147223],\n",
       "       [ 1.05506768],\n",
       "       [-1.17280527],\n",
       "       [ 0.4959127 ],\n",
       "       [-0.02111844],\n",
       "       [ 1.04978663],\n",
       "       [ 0.63344421],\n",
       "       [ 0.17866105],\n",
       "       [-0.53756752],\n",
       "       [-0.65253385],\n",
       "       [-3.66629624],\n",
       "       [ 1.67569492],\n",
       "       [-0.33438959],\n",
       "       [-0.24387381],\n",
       "       [ 0.8824149 ],\n",
       "       [ 0.67296285],\n",
       "       [ 0.4099651 ],\n",
       "       [ 1.67310056],\n",
       "       [-1.71644528],\n",
       "       [ 0.8504086 ],\n",
       "       [ 1.34622837],\n",
       "       [ 1.02836318],\n",
       "       [-0.80507209],\n",
       "       [ 0.28371231],\n",
       "       [ 1.02836318],\n",
       "       [ 0.50505196],\n",
       "       [-0.65253385],\n",
       "       [ 1.15488969],\n",
       "       [-0.91721219],\n",
       "       [-0.43194246],\n",
       "       [-0.53756752],\n",
       "       [ 0.8824149 ],\n",
       "       [ 2.07252281],\n",
       "       [ 0.8824149 ],\n",
       "       [ 1.15488969],\n",
       "       [-0.43194246],\n",
       "       [-0.0806774 ],\n",
       "       [-0.72663786],\n",
       "       [ 0.8173342 ],\n",
       "       [-0.33438959],\n",
       "       [-0.15954069],\n",
       "       [ 0.50505196],\n",
       "       [-0.26145727],\n",
       "       [ 0.57546916],\n",
       "       [-0.53756752],\n",
       "       [-0.24387381],\n",
       "       [-1.52739203],\n",
       "       [ 0.4959127 ],\n",
       "       [-1.24455405],\n",
       "       [-2.39380878],\n",
       "       [-0.43194246],\n",
       "       [-0.2792939 ],\n",
       "       [-0.0806774 ],\n",
       "       [ 2.21179029],\n",
       "       [ 2.07098215],\n",
       "       [-0.77841857],\n",
       "       [-0.65253385],\n",
       "       [ 0.19082657],\n",
       "       [-1.66696937],\n",
       "       [-0.0806774 ],\n",
       "       [ 0.30578061],\n",
       "       [-0.72663786],\n",
       "       [-1.93153183],\n",
       "       [ 0.67296285],\n",
       "       [ 0.87609615],\n",
       "       [ 0.06295064],\n",
       "       [ 0.76911072],\n",
       "       [-1.24455405],\n",
       "       [ 0.50505196],\n",
       "       [ 0.87609615],\n",
       "       [-0.77841857],\n",
       "       [ 0.67296285],\n",
       "       [-0.65253385],\n",
       "       [ 2.2292421 ],\n",
       "       [ 1.36516298],\n",
       "       [ 2.58658667],\n",
       "       [ 0.8824149 ],\n",
       "       [-1.24455405],\n",
       "       [-0.24387381],\n",
       "       [ 0.74048164],\n",
       "       [-0.53756752],\n",
       "       [-0.15954069],\n",
       "       [ 0.50505196],\n",
       "       [-1.07147223],\n",
       "       [ 1.36140858],\n",
       "       [-1.28180021],\n",
       "       [-1.66696937],\n",
       "       [-2.31942169],\n",
       "       [ 0.30578061],\n",
       "       [ 1.36516298],\n",
       "       [ 2.42613116],\n",
       "       [-0.53756752],\n",
       "       [ 0.4959127 ],\n",
       "       [-1.00771879],\n",
       "       [-1.44096969],\n",
       "       [ 0.64943313],\n",
       "       [-1.28180021],\n",
       "       [-0.97689331],\n",
       "       [-0.43194246],\n",
       "       [-0.0806774 ],\n",
       "       [ 1.15488969],\n",
       "       [ 0.66517901],\n",
       "       [-0.43194246],\n",
       "       [ 0.17866105],\n",
       "       [ 1.26196107],\n",
       "       [-1.24455405],\n",
       "       [ 0.50505196],\n",
       "       [ 1.15014478],\n",
       "       [ 3.1791153 ],\n",
       "       [-0.67678038],\n",
       "       [ 1.36140858],\n",
       "       [-1.71644528],\n",
       "       [-0.77841857],\n",
       "       [-1.93153183],\n",
       "       [-0.65253385],\n",
       "       [ 0.30578061],\n",
       "       [-1.17280527],\n",
       "       [-0.0806774 ],\n",
       "       [-1.00771879],\n",
       "       [ 0.54084511],\n",
       "       [ 1.24924736],\n",
       "       [ 0.8824149 ],\n",
       "       [ 0.71102212],\n",
       "       [-0.0806774 ],\n",
       "       [-0.65253385],\n",
       "       [-1.24455405],\n",
       "       [-0.43194246],\n",
       "       [-1.24455405],\n",
       "       [ 0.30578061],\n",
       "       [ 1.26615938],\n",
       "       [ 0.03559067],\n",
       "       [-0.45238485],\n",
       "       [ 0.8504086 ],\n",
       "       [ 1.36516298],\n",
       "       [-1.28180021],\n",
       "       [ 0.50505196],\n",
       "       [-0.62872275],\n",
       "       [ 0.50505196],\n",
       "       [ 0.06295064],\n",
       "       [ 0.50505196],\n",
       "       [ 1.53469657],\n",
       "       [-0.91721219],\n",
       "       [ 1.10631124],\n",
       "       [ 0.78312667]])"
      ]
     },
     "execution_count": 33,
     "metadata": {},
     "output_type": "execute_result"
    }
   ],
   "source": [
    "# Values held by y_test\n",
    "y_test"
   ]
  },
  {
   "cell_type": "code",
   "execution_count": 34,
   "metadata": {},
   "outputs": [
    {
     "data": {
      "image/png": "[encoded data removed]",
      "text/plain": [
       "<Figure size 720x720 with 1 Axes>"
      ]
     },
     "metadata": {
      "needs_background": "light"
     },
     "output_type": "display_data"
    }
   ],
   "source": [
    "# Performing train_test_split to get testing and training datasets\n",
    "X_train, X_val, y_train, y_val = train_test_split(X_train, y_train.values, random_state = seed)\n",
    "model = Lasso(alpha=0.02)\n",
    "model.fit(X_train,y_train)\n",
    "plt.figure(figsize=(10,10))\n",
    "model_ft_imp = pd.DataFrame(data=model.coef_,columns=['FeatureImp'], index = X_train.columns).sort_values(by='FeatureImp', ascending=False)\n",
    "model_ft_imp_nonzero = model_ft_imp[model_ft_imp['FeatureImp'] != 0]\n",
    "sns.barplot(x=model_ft_imp_nonzero['FeatureImp'], y=model_ft_imp_nonzero.index, palette=\"Reds\")\n",
    "plt.title('Lasso Feature importance', fontsize=20)\n",
    "plt.show()"
   ]
  },
  {
   "cell_type": "code",
   "execution_count": 35,
   "metadata": {},
   "outputs": [],
   "source": [
    "# Parameter function defined\n",
    "def estimator_params(X,y):\n",
    "    estimator_params = []\n",
    "    score = []    \n",
    "    Time = []\n",
    "    estimators = [GradientBoostingRegressor(),\n",
    "                   LGBMRegressor(),\n",
    "                   Ridge(),\n",
    "                   Lasso()]\n",
    "    params = [ {'max_depth':[5,10,15], \n",
    "                'min_samples_split':[10, 50, 100],\n",
    "                'learning_rate':[0.01,0.1,0.5], \n",
    "                'max_features':['sqrt'],\n",
    "                'random_state': [seed]},                         \n",
    "               {'num_leaves': [5,10,20], \n",
    "                'max_depth': [None, 5, 10, 20], \n",
    "                'learning_rate': [0.01,0.1,0.5], \n",
    "                'n_estimators': [10, 50, 100],\n",
    "                'random_state': [seed]},\n",
    "                {'alpha': [5, 10, 20, 50,100],\n",
    "                'tol': [0.5,0.9],\n",
    "                'random_state': [seed]},\n",
    "                {'alpha' : [0.1, 1],\n",
    "                 'max_iter': [1000, 2000],\n",
    "                 'random_state': [seed]}]   \n",
    "    # KFold   \n",
    "    kf = KFold(n_splits = 5, shuffle=True, random_state = seed)  \n",
    "    cv_params = {'cv': kf, 'scoring': 'neg_root_mean_squared_error', 'verbose': 0}\n",
    "    # GridSearchCV    \n",
    "    for estimator,param in zip(estimators, params):\n",
    "        start = time.time()        \n",
    "        grid_solver = GridSearchCV(estimator, param_grid = param, **cv_params).fit(X_train, y_train)\n",
    "        estimator_params.append(grid_solver.best_estimator_)\n",
    "        score.append(-(grid_solver.best_score_))\n",
    "        stop = time.time()\n",
    "        print('{} optimization finished'.format(str(estimator)))\n",
    "        print()\n",
    "        Time.append(stop-start)        \n",
    "    global estimator_params_df    \n",
    "    estimator_params_df = pd.DataFrame(columns = ['Estimator_params','Score_RMSE','Time'])\n",
    "    estimator_params_df['Estimator_params']= estimator_params\n",
    "    estimator_params_df['Score_RMSE'] = score\n",
    "    estimator_params_df['Time']= Time   \n",
    "    return estimator_params_df"
   ]
  },
  {
   "cell_type": "code",
   "execution_count": 36,
   "metadata": {},
   "outputs": [
    {
     "name": "stdout",
     "output_type": "stream",
     "text": [
      "GradientBoostingRegressor() optimization finished\n",
      "\n",
      "LGBMRegressor() optimization finished\n",
      "\n",
      "Ridge() optimization finished\n",
      "\n",
      "Lasso() optimization finished\n",
      "\n"
     ]
    },
    {
     "data": {
      "text/html": [
       "<div>\n",
       "<style scoped>\n",
       "    .dataframe tbody tr th:only-of-type {\n",
       "        vertical-align: middle;\n",
       "    }\n",
       "\n",
       "    .dataframe tbody tr th {\n",
       "        vertical-align: top;\n",
       "    }\n",
       "\n",
       "    .dataframe thead th {\n",
       "        text-align: right;\n",
       "    }\n",
       "</style>\n",
       "<table border=\"1\" class=\"dataframe\">\n",
       "  <thead>\n",
       "    <tr style=\"text-align: right;\">\n",
       "      <th></th>\n",
       "      <th>Estimator_params</th>\n",
       "      <th>Score_RMSE</th>\n",
       "      <th>Time</th>\n",
       "    </tr>\n",
       "  </thead>\n",
       "  <tbody>\n",
       "    <tr>\n",
       "      <th>0</th>\n",
       "      <td>([DecisionTreeRegressor(criterion='friedman_ms...</td>\n",
       "      <td>0.713808</td>\n",
       "      <td>8.119933</td>\n",
       "    </tr>\n",
       "    <tr>\n",
       "      <th>1</th>\n",
       "      <td>LGBMRegressor(max_depth=None, num_leaves=5, ra...</td>\n",
       "      <td>0.698287</td>\n",
       "      <td>9.618638</td>\n",
       "    </tr>\n",
       "    <tr>\n",
       "      <th>2</th>\n",
       "      <td>Ridge(alpha=5, random_state=0, tol=0.5)</td>\n",
       "      <td>0.765710</td>\n",
       "      <td>0.288202</td>\n",
       "    </tr>\n",
       "    <tr>\n",
       "      <th>3</th>\n",
       "      <td>Lasso(alpha=0.1, random_state=0)</td>\n",
       "      <td>0.790928</td>\n",
       "      <td>0.099732</td>\n",
       "    </tr>\n",
       "  </tbody>\n",
       "</table>\n",
       "</div>"
      ],
      "text/plain": [
       "                                    Estimator_params  Score_RMSE      Time\n",
       "0  ([DecisionTreeRegressor(criterion='friedman_ms...    0.713808  8.119933\n",
       "1  LGBMRegressor(max_depth=None, num_leaves=5, ra...    0.698287  9.618638\n",
       "2            Ridge(alpha=5, random_state=0, tol=0.5)    0.765710  0.288202\n",
       "3                   Lasso(alpha=0.1, random_state=0)    0.790928  0.099732"
      ]
     },
     "execution_count": 36,
     "metadata": {},
     "output_type": "execute_result"
    }
   ],
   "source": [
    "estimator_params(X_train, y_train) #Running optimization parameters"
   ]
  },
  {
   "cell_type": "code",
   "execution_count": 37,
   "metadata": {},
   "outputs": [
    {
     "data": {
      "text/plain": [
       "LGBMRegressor(max_depth=None, num_leaves=5, random_state=0)"
      ]
     },
     "execution_count": 37,
     "metadata": {},
     "output_type": "execute_result"
    }
   ],
   "source": [
    "estimator_params_df['Estimator_params'][1] #Running LGBMregressor with the lowest RMSE Score"
   ]
  },
  {
   "cell_type": "code",
   "execution_count": 38,
   "metadata": {},
   "outputs": [],
   "source": [
    "model = LGBMRegressor(max_depth=10, num_leaves=20, random_state=0)\n",
    "model.fit(X_train,y_train)\n",
    "predictions = model.predict(X_test)\n",
    "predictions = pt.inverse_transform(predictions.reshape(-1,1)) # Reversing the power transformation\n",
    "predictions = np.around(predictions,2).ravel().tolist()"
   ]
  },
  {
   "cell_type": "code",
   "execution_count": 39,
   "metadata": {},
   "outputs": [
    {
     "data": {
      "text/plain": [
       "[73.25,\n",
       " 218.51,\n",
       " 363.97,\n",
       " 243.66,\n",
       " 102.4,\n",
       " 46.26,\n",
       " 57.09,\n",
       " 59.27,\n",
       " 101.85,\n",
       " 60.64,\n",
       " 91.49,\n",
       " 152.55,\n",
       " 245.63,\n",
       " 105.25,\n",
       " 106.4,\n",
       " 64.89,\n",
       " 196.72,\n",
       " 67.21,\n",
       " 134.43,\n",
       " 139.5,\n",
       " 130.75,\n",
       " 50.5,\n",
       " 60.64,\n",
       " 140.45,\n",
       " 113.31,\n",
       " 243.66,\n",
       " 286.89,\n",
       " 151.76,\n",
       " 67.21,\n",
       " 116.84,\n",
       " 260.99,\n",
       " 148.64,\n",
       " 67.21,\n",
       " 140.01,\n",
       " 66.02,\n",
       " 68.27,\n",
       " 113.65,\n",
       " 151.89,\n",
       " 218.51,\n",
       " 286.89,\n",
       " 249.81,\n",
       " 138.49,\n",
       " 53.28,\n",
       " 223.36,\n",
       " 152.57,\n",
       " 111.76,\n",
       " 120.73,\n",
       " 86.96,\n",
       " 96.14,\n",
       " 124.37,\n",
       " 249.81,\n",
       " 101.94,\n",
       " 142.51,\n",
       " 122.74,\n",
       " 217.46,\n",
       " 51.41,\n",
       " 55.62,\n",
       " 124.89,\n",
       " 57.36,\n",
       " 270.41,\n",
       " 272.5,\n",
       " 62.05,\n",
       " 146.1,\n",
       " 230.36,\n",
       " 52.43,\n",
       " 123.54,\n",
       " 109.47,\n",
       " 73.86,\n",
       " 96.7,\n",
       " 56.39,\n",
       " 55.21,\n",
       " 71.5,\n",
       " 54.61,\n",
       " 99.66,\n",
       " 159.38,\n",
       " 182.06,\n",
       " 182.06,\n",
       " 144.49,\n",
       " 183.67,\n",
       " 195.28,\n",
       " 87.68,\n",
       " 169.62,\n",
       " 46.05,\n",
       " 145.16,\n",
       " 66.71,\n",
       " 130.38,\n",
       " 107.0,\n",
       " 73.86,\n",
       " 272.5,\n",
       " 123.85,\n",
       " 84.32,\n",
       " 197.69,\n",
       " 226.25,\n",
       " 108.09,\n",
       " 148.44,\n",
       " 69.31,\n",
       " 146.1,\n",
       " 144.63,\n",
       " 218.51,\n",
       " 272.5,\n",
       " 208.25,\n",
       " 155.49,\n",
       " 107.85,\n",
       " 146.1,\n",
       " 75.69,\n",
       " 44.18,\n",
       " 87.68,\n",
       " 134.43,\n",
       " 125.49,\n",
       " 55.77,\n",
       " 170.0,\n",
       " 103.9,\n",
       " 157.1,\n",
       " 102.4,\n",
       " 272.5,\n",
       " 85.74,\n",
       " 55.62,\n",
       " 70.07,\n",
       " 56.39,\n",
       " 158.73,\n",
       " 172.88,\n",
       " 73.86,\n",
       " 71.06,\n",
       " 56.39,\n",
       " 71.58,\n",
       " 51.47,\n",
       " 164.45,\n",
       " 249.81,\n",
       " 65.01,\n",
       " 162.83,\n",
       " 347.37,\n",
       " 55.03,\n",
       " 81.44,\n",
       " 66.67,\n",
       " 134.35,\n",
       " 245.63,\n",
       " 221.85,\n",
       " 60.64,\n",
       " 64.25,\n",
       " 238.05,\n",
       " 71.39,\n",
       " 60.64,\n",
       " 62.05,\n",
       " 78.24,\n",
       " 218.51,\n",
       " 112.94,\n",
       " 66.49,\n",
       " 130.75,\n",
       " 61.1,\n",
       " 108.39,\n",
       " 94.59,\n",
       " 158.89,\n",
       " 97.89,\n",
       " 120.26,\n",
       " 99.41,\n",
       " 123.85,\n",
       " 66.12,\n",
       " 78.24,\n",
       " 130.75,\n",
       " 127.15,\n",
       " 138.07,\n",
       " 109.47,\n",
       " 63.19,\n",
       " 84.32,\n",
       " 107.0,\n",
       " 105.32,\n",
       " 157.1,\n",
       " 182.08,\n",
       " 284.89,\n",
       " 114.67,\n",
       " 92.66,\n",
       " 157.41,\n",
       " 158.73,\n",
       " 73.86,\n",
       " 52.59,\n",
       " 199.1,\n",
       " 105.3,\n",
       " 161.69,\n",
       " 363.97,\n",
       " 223.36,\n",
       " 173.25,\n",
       " 62.05,\n",
       " 68.27,\n",
       " 63.19,\n",
       " 66.68,\n",
       " 286.89,\n",
       " 218.51,\n",
       " 217.95,\n",
       " 286.89,\n",
       " 284.89,\n",
       " 165.31,\n",
       " 55.62,\n",
       " 46.25,\n",
       " 158.73,\n",
       " 65.01,\n",
       " 130.38,\n",
       " 117.9,\n",
       " 205.75,\n",
       " 83.4,\n",
       " 67.21,\n",
       " 144.96,\n",
       " 96.14,\n",
       " 151.64,\n",
       " 196.72,\n",
       " 119.47,\n",
       " 53.28,\n",
       " 53.04,\n",
       " 106.99,\n",
       " 117.69,\n",
       " 196.72,\n",
       " 57.36,\n",
       " 56.51,\n",
       " 96.7,\n",
       " 56.39,\n",
       " 172.88,\n",
       " 248.0,\n",
       " 56.1,\n",
       " 68.38,\n",
       " 43.08,\n",
       " 249.81,\n",
       " 249.81,\n",
       " 111.65,\n",
       " 46.26,\n",
       " 182.77,\n",
       " 136.01,\n",
       " 171.05,\n",
       " 90.98,\n",
       " 78.65,\n",
       " 117.75,\n",
       " 84.82,\n",
       " 135.48,\n",
       " 88.59,\n",
       " 284.89,\n",
       " 66.02,\n",
       " 64.38,\n",
       " 150.13,\n",
       " 80.81,\n",
       " 96.7,\n",
       " 260.99,\n",
       " 113.7,\n",
       " 137.88,\n",
       " 158.73,\n",
       " 67.21,\n",
       " 171.05,\n",
       " 107.29,\n",
       " 270.41,\n",
       " 298.8,\n",
       " 119.25,\n",
       " 121.97,\n",
       " 131.49,\n",
       " 249.81,\n",
       " 122.74,\n",
       " 60.43,\n",
       " 170.0,\n",
       " 60.64,\n",
       " 66.71,\n",
       " 155.49,\n",
       " 137.88,\n",
       " 120.7,\n",
       " 183.09,\n",
       " 108.09,\n",
       " 218.51,\n",
       " 78.24,\n",
       " 81.15,\n",
       " 123.64,\n",
       " 117.9,\n",
       " 47.84,\n",
       " 150.58,\n",
       " 130.01,\n",
       " 270.41,\n",
       " 218.51,\n",
       " 181.26,\n",
       " 197.69,\n",
       " 86.96,\n",
       " 123.92,\n",
       " 223.36,\n",
       " 162.65,\n",
       " 162.44,\n",
       " 78.39,\n",
       " 71.2,\n",
       " 150.72,\n",
       " 130.38,\n",
       " 136.81,\n",
       " 70.17,\n",
       " 286.89,\n",
       " 103.16,\n",
       " 284.89,\n",
       " 57.36,\n",
       " 42.35,\n",
       " 151.89,\n",
       " 113.31,\n",
       " 146.1,\n",
       " 57.36,\n",
       " 387.89,\n",
       " 71.55,\n",
       " 55.21,\n",
       " 137.3,\n",
       " 196.72,\n",
       " 171.05,\n",
       " 90.98,\n",
       " 114.67,\n",
       " 130.75,\n",
       " 62.43,\n",
       " 172.88,\n",
       " 249.81,\n",
       " 249.81,\n",
       " 53.58,\n",
       " 97.89,\n",
       " 54.47,\n",
       " 104.31,\n",
       " 64.54,\n",
       " 130.75,\n",
       " 103.9,\n",
       " 243.66,\n",
       " 60.01,\n",
       " 272.5,\n",
       " 78.39,\n",
       " 239.17,\n",
       " 111.27,\n",
       " 218.51,\n",
       " 197.69,\n",
       " 139.77,\n",
       " 53.04,\n",
       " 248.0,\n",
       " 123.54,\n",
       " 234.68,\n",
       " 52.43,\n",
       " 84.32,\n",
       " 191.28,\n",
       " 57.36,\n",
       " 309.12,\n",
       " 74.48,\n",
       " 43.08,\n",
       " 60.43,\n",
       " 165.31,\n",
       " 200.43,\n",
       " 139.5,\n",
       " 272.5,\n",
       " 115.54,\n",
       " 60.44,\n",
       " 62.23,\n",
       " 61.79,\n",
       " 121.97,\n",
       " 298.8,\n",
       " 90.98,\n",
       " 51.28,\n",
       " 218.51,\n",
       " 91.49,\n",
       " 53.29,\n",
       " 130.05,\n",
       " 389.17,\n",
       " 239.17,\n",
       " 81.15,\n",
       " 139.61,\n",
       " 123.64,\n",
       " 113.31,\n",
       " 146.1,\n",
       " 117.14,\n",
       " 50.49,\n",
       " 182.08,\n",
       " 218.51,\n",
       " 96.7,\n",
       " 139.56,\n",
       " 51.8,\n",
       " 99.66,\n",
       " 122.74,\n",
       " 183.67,\n",
       " 135.48,\n",
       " 183.67,\n",
       " 239.17,\n",
       " 109.47,\n",
       " 56.12,\n",
       " 117.9,\n",
       " 55.77,\n",
       " 110.29,\n",
       " 71.58,\n",
       " 238.05,\n",
       " 272.5,\n",
       " 182.06,\n",
       " 158.73,\n",
       " 71.84,\n",
       " 332.92,\n",
       " 87.68,\n",
       " 260.99,\n",
       " 130.48,\n",
       " 123.25,\n",
       " 58.16,\n",
       " 76.98,\n",
       " 217.3,\n",
       " 44.56,\n",
       " 118.37,\n",
       " 36.21,\n",
       " 166.96,\n",
       " 174.86,\n",
       " 54.4,\n",
       " 43.69,\n",
       " 330.31,\n",
       " 78.39,\n",
       " 84.32,\n",
       " 173.72,\n",
       " 78.39,\n",
       " 111.76,\n",
       " 124.61,\n",
       " 94.58,\n",
       " 53.28,\n",
       " 122.74,\n",
       " 57.1,\n",
       " 72.34,\n",
       " 130.38,\n",
       " 141.42,\n",
       " 142.51,\n",
       " 130.38,\n",
       " 140.3,\n",
       " 115.92,\n",
       " 173.25,\n",
       " 108.39,\n",
       " 143.74,\n",
       " 67.15,\n",
       " 161.79,\n",
       " 57.36,\n",
       " 260.99,\n",
       " 204.59,\n",
       " 66.68,\n",
       " 125.49,\n",
       " 183.67,\n",
       " 110.49,\n",
       " 104.18,\n",
       " 117.9,\n",
       " 63.19,\n",
       " 155.49,\n",
       " 95.33,\n",
       " 136.03,\n",
       " 60.64,\n",
       " 196.72,\n",
       " 56.1,\n",
       " 208.25,\n",
       " 56.39,\n",
       " 56.39,\n",
       " 113.65,\n",
       " 51.48,\n",
       " 130.48,\n",
       " 52.39,\n",
       " 51.8,\n",
       " 92.63,\n",
       " 102.4,\n",
       " 363.97,\n",
       " 158.0,\n",
       " 130.75,\n",
       " 56.1,\n",
       " 245.63,\n",
       " 53.28,\n",
       " 300.11,\n",
       " 107.0,\n",
       " 112.62,\n",
       " 122.74,\n",
       " 105.98,\n",
       " 78.24,\n",
       " 57.73,\n",
       " 55.49,\n",
       " 65.24,\n",
       " 71.5,\n",
       " 62.05,\n",
       " 99.92,\n",
       " 139.89,\n",
       " 186.67,\n",
       " 151.8,\n",
       " 75.69,\n",
       " 171.05,\n",
       " 100.98,\n",
       " 58.44,\n",
       " 43.25,\n",
       " 160.36,\n",
       " 60.64,\n",
       " 117.97,\n",
       " 298.8,\n",
       " 85.74,\n",
       " 179.17,\n",
       " 183.67,\n",
       " 218.51,\n",
       " 72.38,\n",
       " 130.48,\n",
       " 51.41,\n",
       " 191.28,\n",
       " 85.74,\n",
       " 150.58,\n",
       " 347.37,\n",
       " 56.39,\n",
       " 117.94,\n",
       " 173.25]"
      ]
     },
     "execution_count": 39,
     "metadata": {},
     "output_type": "execute_result"
    }
   ],
   "source": [
    "predictions"
   ]
  },
  {
   "cell_type": "markdown",
   "metadata": {},
   "source": [
    "# Running All Regressions\n",
    "1. Linear Regression\n",
    "2. Ridge Regression\n",
    "3. Lasso Regression\n",
    "4. Support Vector Machine\n",
    "5. SVR Regressor\n",
    "6. KNN\n",
    "7. Polynomial Regressor\n",
    "8. Decision Tree Regressor"
   ]
  },
  {
   "cell_type": "markdown",
   "metadata": {},
   "source": [
    "# 1. Linear Regression\n"
   ]
  },
  {
   "cell_type": "code",
   "execution_count": 40,
   "metadata": {},
   "outputs": [
    {
     "data": {
      "text/plain": [
       "LinearRegression()"
      ]
     },
     "execution_count": 40,
     "metadata": {},
     "output_type": "execute_result"
    }
   ],
   "source": [
    "linear_reg = linear_model.LinearRegression()\n",
    "linear_reg.fit(X_train, y_train) # Fitting Linear Regression over Training data"
   ]
  },
  {
   "cell_type": "code",
   "execution_count": 41,
   "metadata": {},
   "outputs": [
    {
     "name": "stdout",
     "output_type": "stream",
     "text": [
      "0.41761768547130973\n",
      "0.4177473337197736\n"
     ]
    }
   ],
   "source": [
    "print(linear_reg.score(X_train, y_train)) #Train Score of Linear Regression\n",
    "print(linear_reg.score(X_test, y_test)) #Test Score of Linear Regression"
   ]
  },
  {
   "cell_type": "code",
   "execution_count": 42,
   "metadata": {},
   "outputs": [
    {
     "data": {
      "text/html": [
       "<div>\n",
       "<style scoped>\n",
       "    .dataframe tbody tr th:only-of-type {\n",
       "        vertical-align: middle;\n",
       "    }\n",
       "\n",
       "    .dataframe tbody tr th {\n",
       "        vertical-align: top;\n",
       "    }\n",
       "\n",
       "    .dataframe thead th {\n",
       "        text-align: right;\n",
       "    }\n",
       "</style>\n",
       "<table border=\"1\" class=\"dataframe\">\n",
       "  <thead>\n",
       "    <tr style=\"text-align: right;\">\n",
       "      <th></th>\n",
       "      <th>pred_price</th>\n",
       "    </tr>\n",
       "  </thead>\n",
       "  <tbody>\n",
       "    <tr>\n",
       "      <th>0</th>\n",
       "      <td>-0.699411</td>\n",
       "    </tr>\n",
       "    <tr>\n",
       "      <th>1</th>\n",
       "      <td>0.626384</td>\n",
       "    </tr>\n",
       "    <tr>\n",
       "      <th>2</th>\n",
       "      <td>0.694221</td>\n",
       "    </tr>\n",
       "    <tr>\n",
       "      <th>3</th>\n",
       "      <td>0.588833</td>\n",
       "    </tr>\n",
       "    <tr>\n",
       "      <th>4</th>\n",
       "      <td>-0.606341</td>\n",
       "    </tr>\n",
       "    <tr>\n",
       "      <th>...</th>\n",
       "      <td>...</td>\n",
       "    </tr>\n",
       "    <tr>\n",
       "      <th>484</th>\n",
       "      <td>0.333560</td>\n",
       "    </tr>\n",
       "    <tr>\n",
       "      <th>485</th>\n",
       "      <td>0.731065</td>\n",
       "    </tr>\n",
       "    <tr>\n",
       "      <th>486</th>\n",
       "      <td>-0.512796</td>\n",
       "    </tr>\n",
       "    <tr>\n",
       "      <th>487</th>\n",
       "      <td>0.416492</td>\n",
       "    </tr>\n",
       "    <tr>\n",
       "      <th>488</th>\n",
       "      <td>0.579913</td>\n",
       "    </tr>\n",
       "  </tbody>\n",
       "</table>\n",
       "<p>489 rows × 1 columns</p>\n",
       "</div>"
      ],
      "text/plain": [
       "     pred_price\n",
       "0     -0.699411\n",
       "1      0.626384\n",
       "2      0.694221\n",
       "3      0.588833\n",
       "4     -0.606341\n",
       "..          ...\n",
       "484    0.333560\n",
       "485    0.731065\n",
       "486   -0.512796\n",
       "487    0.416492\n",
       "488    0.579913\n",
       "\n",
       "[489 rows x 1 columns]"
      ]
     },
     "execution_count": 42,
     "metadata": {},
     "output_type": "execute_result"
    }
   ],
   "source": [
    "pred = linear_reg.predict(X_test)\n",
    "pred \n",
    "df_pred = pd.DataFrame(pred, columns=['pred_price']) \n",
    "df_pred "
   ]
  },
  {
   "cell_type": "code",
   "execution_count": 70,
   "metadata": {},
   "outputs": [
    {
     "data": {
      "text/html": [
       "<div>\n",
       "<style scoped>\n",
       "    .dataframe tbody tr th:only-of-type {\n",
       "        vertical-align: middle;\n",
       "    }\n",
       "\n",
       "    .dataframe tbody tr th {\n",
       "        vertical-align: top;\n",
       "    }\n",
       "\n",
       "    .dataframe thead th {\n",
       "        text-align: right;\n",
       "    }\n",
       "</style>\n",
       "<table border=\"1\" class=\"dataframe\">\n",
       "  <thead>\n",
       "    <tr style=\"text-align: right;\">\n",
       "      <th></th>\n",
       "      <th>price</th>\n",
       "    </tr>\n",
       "  </thead>\n",
       "  <tbody>\n",
       "    <tr>\n",
       "      <th>0</th>\n",
       "      <td>0.711022</td>\n",
       "    </tr>\n",
       "    <tr>\n",
       "      <th>1</th>\n",
       "      <td>2.421544</td>\n",
       "    </tr>\n",
       "    <tr>\n",
       "      <th>2</th>\n",
       "      <td>1.376331</td>\n",
       "    </tr>\n",
       "    <tr>\n",
       "      <th>3</th>\n",
       "      <td>0.711022</td>\n",
       "    </tr>\n",
       "    <tr>\n",
       "      <th>4</th>\n",
       "      <td>-0.537568</td>\n",
       "    </tr>\n",
       "    <tr>\n",
       "      <th>...</th>\n",
       "      <td>...</td>\n",
       "    </tr>\n",
       "    <tr>\n",
       "      <th>484</th>\n",
       "      <td>0.505052</td>\n",
       "    </tr>\n",
       "    <tr>\n",
       "      <th>485</th>\n",
       "      <td>1.534697</td>\n",
       "    </tr>\n",
       "    <tr>\n",
       "      <th>486</th>\n",
       "      <td>-0.917212</td>\n",
       "    </tr>\n",
       "    <tr>\n",
       "      <th>487</th>\n",
       "      <td>1.106311</td>\n",
       "    </tr>\n",
       "    <tr>\n",
       "      <th>488</th>\n",
       "      <td>0.783127</td>\n",
       "    </tr>\n",
       "  </tbody>\n",
       "</table>\n",
       "<p>489 rows × 1 columns</p>\n",
       "</div>"
      ],
      "text/plain": [
       "        price\n",
       "0    0.711022\n",
       "1    2.421544\n",
       "2    1.376331\n",
       "3    0.711022\n",
       "4   -0.537568\n",
       "..        ...\n",
       "484  0.505052\n",
       "485  1.534697\n",
       "486 -0.917212\n",
       "487  1.106311\n",
       "488  0.783127\n",
       "\n",
       "[489 rows x 1 columns]"
      ]
     },
     "execution_count": 70,
     "metadata": {},
     "output_type": "execute_result"
    }
   ],
   "source": [
    "y_test \n",
    "df_y_test = pd.DataFrame(y_test, columns=['price'])\n",
    "df_y_test"
   ]
  },
  {
   "cell_type": "code",
   "execution_count": 71,
   "metadata": {},
   "outputs": [
    {
     "data": {
      "text/html": [
       "<div>\n",
       "<style scoped>\n",
       "    .dataframe tbody tr th:only-of-type {\n",
       "        vertical-align: middle;\n",
       "    }\n",
       "\n",
       "    .dataframe tbody tr th {\n",
       "        vertical-align: top;\n",
       "    }\n",
       "\n",
       "    .dataframe thead th {\n",
       "        text-align: right;\n",
       "    }\n",
       "</style>\n",
       "<table border=\"1\" class=\"dataframe\">\n",
       "  <thead>\n",
       "    <tr style=\"text-align: right;\">\n",
       "      <th></th>\n",
       "      <th>price</th>\n",
       "      <th>pred_price</th>\n",
       "    </tr>\n",
       "  </thead>\n",
       "  <tbody>\n",
       "    <tr>\n",
       "      <th>0</th>\n",
       "      <td>0.711022</td>\n",
       "      <td>-0.699411</td>\n",
       "    </tr>\n",
       "    <tr>\n",
       "      <th>1</th>\n",
       "      <td>2.421544</td>\n",
       "      <td>0.626384</td>\n",
       "    </tr>\n",
       "    <tr>\n",
       "      <th>2</th>\n",
       "      <td>1.376331</td>\n",
       "      <td>0.694221</td>\n",
       "    </tr>\n",
       "    <tr>\n",
       "      <th>3</th>\n",
       "      <td>0.711022</td>\n",
       "      <td>0.588833</td>\n",
       "    </tr>\n",
       "    <tr>\n",
       "      <th>4</th>\n",
       "      <td>-0.537568</td>\n",
       "      <td>-0.606341</td>\n",
       "    </tr>\n",
       "    <tr>\n",
       "      <th>...</th>\n",
       "      <td>...</td>\n",
       "      <td>...</td>\n",
       "    </tr>\n",
       "    <tr>\n",
       "      <th>484</th>\n",
       "      <td>0.505052</td>\n",
       "      <td>0.333560</td>\n",
       "    </tr>\n",
       "    <tr>\n",
       "      <th>485</th>\n",
       "      <td>1.534697</td>\n",
       "      <td>0.731065</td>\n",
       "    </tr>\n",
       "    <tr>\n",
       "      <th>486</th>\n",
       "      <td>-0.917212</td>\n",
       "      <td>-0.512796</td>\n",
       "    </tr>\n",
       "    <tr>\n",
       "      <th>487</th>\n",
       "      <td>1.106311</td>\n",
       "      <td>0.416492</td>\n",
       "    </tr>\n",
       "    <tr>\n",
       "      <th>488</th>\n",
       "      <td>0.783127</td>\n",
       "      <td>0.579913</td>\n",
       "    </tr>\n",
       "  </tbody>\n",
       "</table>\n",
       "<p>489 rows × 2 columns</p>\n",
       "</div>"
      ],
      "text/plain": [
       "        price  pred_price\n",
       "0    0.711022   -0.699411\n",
       "1    2.421544    0.626384\n",
       "2    1.376331    0.694221\n",
       "3    0.711022    0.588833\n",
       "4   -0.537568   -0.606341\n",
       "..        ...         ...\n",
       "484  0.505052    0.333560\n",
       "485  1.534697    0.731065\n",
       "486 -0.917212   -0.512796\n",
       "487  1.106311    0.416492\n",
       "488  0.783127    0.579913\n",
       "\n",
       "[489 rows x 2 columns]"
      ]
     },
     "execution_count": 71,
     "metadata": {},
     "output_type": "execute_result"
    }
   ],
   "source": [
    "test_pred = pd.concat([df_y_test, df_pred], axis = 1)\n",
    "test_pred #Column Comparing the actual prices with predicted prices after running Linear Regression"
   ]
  },
  {
   "cell_type": "code",
   "execution_count": 45,
   "metadata": {},
   "outputs": [
    {
     "name": "stdout",
     "output_type": "stream",
     "text": [
      "Linear Regression\n",
      "\n",
      "Train score:  0.42\n",
      "Test score:  0.42\n",
      "RMSE LREG:  0.6313539489554021\n"
     ]
    }
   ],
   "source": [
    "print('Linear Regression')\n",
    "linear_reg_score_train = round((linear_reg.score(X_train, y_train)),2)\n",
    "print(\"\\nTrain score: \",linear_reg_score_train)\n",
    "linear_reg_score_test = round((linear_reg.score(X_test, y_test)),2)\n",
    "print(\"Test score: \",linear_reg_score_test)\n",
    "y_pred_test = linear_reg.predict(X_test)\n",
    "rmse_lreg = np.sqrt(mean_squared_error(pred, y_test)**2)\n",
    "print(\"RMSE LREG: \",rmse_lreg)"
   ]
  },
  {
   "cell_type": "markdown",
   "metadata": {},
   "source": [
    "# 2. Ridge Regression"
   ]
  },
  {
   "cell_type": "code",
   "execution_count": 46,
   "metadata": {},
   "outputs": [
    {
     "name": "stdout",
     "output_type": "stream",
     "text": [
      "\n",
      "Best tuning parameter obtained from grid search:  {'alpha': 0.1}\n"
     ]
    }
   ],
   "source": [
    "# Generating hyperparamter value of alpha to run Ridge Regression over the traing data\n",
    "ridge_params = {'alpha':[0.0001, 0.005, 0.01, 0.02, 0.05, 0.1, 0.5, 1, 5, 10, 15]}\n",
    "n = 10000\n",
    "grid_search_ridge = GridSearchCV(linear_model.Ridge(random_state=0), ridge_params, cv=5, n_jobs=-1)\n",
    "grid_search_ridge.fit(X_train, y_train)\n",
    "\n",
    "print(\"\\nBest tuning parameter obtained from grid search: \" ,grid_search_ridge.best_params_)"
   ]
  },
  {
   "cell_type": "code",
   "execution_count": 47,
   "metadata": {},
   "outputs": [
    {
     "name": "stdout",
     "output_type": "stream",
     "text": [
      "\n",
      "Train score:  0.42\n",
      "Test score:  0.42\n",
      "RMSE RIDGE:  0.6313685400106361\n"
     ]
    }
   ],
   "source": [
    "# Using alpha value as 0.1 as the best tuning parametere for Ridge Regression\n",
    "ridge = linear_model.Ridge(grid_search_ridge.best_params_['alpha'])\n",
    "ridge.fit(X_train,y_train)\n",
    "\n",
    "ridge_score_train = round((ridge.score(X_train,y_train)),2)\n",
    "print(\"\\nTrain score: \",round((ridge.score(X_train,y_train)),2) )\n",
    "\n",
    "ridge_score_test = round((ridge.score(X_test,y_test)),2)\n",
    "print(\"Test score: \",round((ridge.score(X_test,y_test)),2) )\n",
    "y_pred_test = ridge.predict(X_test)\n",
    "\n",
    "rmse_ridge = np.sqrt(mean_squared_error(y_pred_test, y_test)**2)\n",
    "print(\"RMSE RIDGE: \",rmse_ridge)"
   ]
  },
  {
   "cell_type": "code",
   "execution_count": 48,
   "metadata": {},
   "outputs": [
    {
     "name": "stdout",
     "output_type": "stream",
     "text": [
      "\n",
      "Mean Train score: 0.4070036259862282\n",
      "Mean Test score:  0.41065960976746735\n"
     ]
    }
   ],
   "source": [
    "#Cross validation for mean score k = 10\n",
    "for alpha in [0.005, 0.02, 0.03, 0.05, 0.06, 0.5, 1, 5, 10, 15]:\n",
    "    train_scores = []\n",
    "    test_scores = []\n",
    "    train_scores.append(cross_val_score(linear_model.Ridge(alpha),X_train,y_train,cv=10))\n",
    "    test_scores.append(cross_val_score(linear_model.Ridge(alpha),X_test,y_test,cv=10))\n",
    "\n",
    "print(\"\\nMean Train score:\",np.mean(train_scores))\n",
    "print(\"Mean Test score: \",np.mean(test_scores))"
   ]
  },
  {
   "cell_type": "code",
   "execution_count": 49,
   "metadata": {},
   "outputs": [
    {
     "data": {
      "text/plain": [
       "Text(0.5, 0, 'Alpha')"
      ]
     },
     "execution_count": 49,
     "metadata": {},
     "output_type": "execute_result"
    },
    {
     "data": {
      "image/png": "[encoded data removed]",
      "text/plain": [
       "<Figure size 432x288 with 1 Axes>"
      ]
     },
     "metadata": {
      "needs_background": "light"
     },
     "output_type": "display_data"
    }
   ],
   "source": [
    "# Generating a plot of test and train scores\n",
    "%matplotlib inline\n",
    "train_score_array = []\n",
    "test_score_array = []\n",
    "\n",
    "x_axis = np.array([0.005, 0.02, 0.03, 0.05, 0.06, 0.5, 1, 5, 10, 15])\n",
    "plt.plot(x_axis, np.array(train_scores).reshape(-1,1), c = 'g', label = 'Train Score')\n",
    "plt.plot(x_axis, np.array(test_scores).reshape(-1,1), c = 'b', label = 'Test Score')\n",
    "plt.legend()\n",
    "plt.ylabel('MSE')\n",
    "plt.xscale('log')\n",
    "plt.legend(loc = 4)\n",
    "plt.xlabel(\"Alpha\")"
   ]
  },
  {
   "cell_type": "markdown",
   "metadata": {},
   "source": [
    "# 3. Lasso Regression"
   ]
  },
  {
   "cell_type": "code",
   "execution_count": 50,
   "metadata": {},
   "outputs": [
    {
     "name": "stdout",
     "output_type": "stream",
     "text": [
      "\n",
      " The Best tuning parameter from lasso search:  {'alpha': 0.0001}\n"
     ]
    }
   ],
   "source": [
    "#Lasso Regression taking range of Alpha values with 5 fold cross validation to find the best parameter\n",
    "lasso_params = {'alpha':[0.0001, 0.005, 0.01, 0.02, 0.05, 0.1, 0.5, 1, 5, 7, 10]}\n",
    "\n",
    "grids_lasso = GridSearchCV(linear_model.Lasso(random_state=0), lasso_params, cv=10, n_jobs=-1)\n",
    "grids_lasso.fit(X_train, y_train)\n",
    "\n",
    "print(\"\\n The Best tuning parameter from lasso search: \" ,grids_lasso.best_params_)"
   ]
  },
  {
   "cell_type": "code",
   "execution_count": 51,
   "metadata": {},
   "outputs": [
    {
     "name": "stdout",
     "output_type": "stream",
     "text": [
      "\n",
      "Train score:  0.42\n",
      "Test score:  0.42\n",
      "RMSE LASSO:  0.6313809598678397\n"
     ]
    }
   ],
   "source": [
    "# Using alpha value as 0.0001 as the best tuning parametere for Lasso Regression\n",
    "lasso = linear_model.Lasso(grids_lasso.best_params_['alpha'])\n",
    "lasso.fit(X_train,y_train)\n",
    "\n",
    "lasso_score_train = round((lasso.score(X_train,y_train)),2)\n",
    "print(\"\\nTrain score: \",round((lasso.score(X_train,y_train)),2) )\n",
    "\n",
    "lasso_score_test = round((lasso.score(X_test,y_test)),2)\n",
    "print(\"Test score: \",round((lasso.score(X_test,y_test)),2) )\n",
    "y_pred_test = lasso.predict(X_test)\n",
    "\n",
    "rmse_lasso = np.sqrt(mean_squared_error(y_pred_test, y_test)**2)\n",
    "print(\"RMSE LASSO: \",rmse_lasso)"
   ]
  },
  {
   "cell_type": "code",
   "execution_count": 52,
   "metadata": {},
   "outputs": [
    {
     "name": "stdout",
     "output_type": "stream",
     "text": [
      "\n",
      "Train score:  0.42\n",
      "Test score:  0.42\n",
      "RMSE LASSO:  0.6313809598678397\n"
     ]
    }
   ],
   "source": [
    "lasso = linear_model.Lasso(grids_lasso.best_params_['alpha'])\n",
    "lasso.fit(X_train,y_train)\n",
    "\n",
    "lasso_score_train = round((lasso.score(X_train,y_train)),2)\n",
    "print(\"\\nTrain score: \",round((lasso.score(X_train,y_train)),2) )\n",
    "\n",
    "lasso_score_test = round((lasso.score(X_test,y_test)),2)\n",
    "print(\"Test score: \",round((lasso.score(X_test,y_test)),2) )\n",
    "y_pred_test = lasso.predict(X_test)\n",
    "\n",
    "rmse_lasso = np.sqrt(mean_squared_error(y_pred_test, y_test)**2)\n",
    "print(\"RMSE LASSO: \",rmse_lasso)"
   ]
  },
  {
   "cell_type": "code",
   "execution_count": 53,
   "metadata": {
    "scrolled": true
   },
   "outputs": [
    {
     "data": {
      "text/plain": [
       "Text(0.5, 0, 'Alpha')"
      ]
     },
     "execution_count": 53,
     "metadata": {},
     "output_type": "execute_result"
    },
    {
     "data": {
      "image/png": "[encoded data removed]",
      "text/plain": [
       "<Figure size 432x288 with 1 Axes>"
      ]
     },
     "metadata": {
      "needs_background": "light"
     },
     "output_type": "display_data"
    }
   ],
   "source": [
    "# Generating a plot comparing test and training scores from Lasso Regression\n",
    "%matplotlib inline\n",
    "train_score_array = []\n",
    "test_score_array = []\n",
    "\n",
    "x_axis = np.array([0.005, 0.02, 0.03, 0.05, 0.06, 0.5, 1, 5, 10, 15])\n",
    "plt.plot(x_axis, np.array(train_scores).reshape(-1,1), c = 'g', label = 'Train Score')\n",
    "plt.plot(x_axis, np.array(test_scores).reshape(-1,1), c = 'b', label = 'Test Score')\n",
    "plt.legend()\n",
    "plt.ylabel('MSE')\n",
    "plt.xscale('log')\n",
    "plt.legend(loc = 3)\n",
    "plt.xlabel(\"Alpha\")"
   ]
  },
  {
   "cell_type": "markdown",
   "metadata": {},
   "source": [
    "# 4. SVM models (simple, linear, polynomial and rbf)"
   ]
  },
  {
   "cell_type": "code",
   "execution_count": 54,
   "metadata": {},
   "outputs": [
    {
     "name": "stdout",
     "output_type": "stream",
     "text": [
      "The best score of Grid search for Simple SVM is  0.4116443590138542\n",
      "The best estimator of Grid search for Simple SVM is  SVR(C=100)\n"
     ]
    }
   ],
   "source": [
    "# Simple SVM\n",
    "param_grid = {'C' : [0.001, 0.01, 0.1, 1 ,5, 10, 100]}\n",
    "model = SVR()\n",
    "grid_SVR = GridSearchCV(estimator=model, param_grid=param_grid,scoring =\"r2\")\n",
    "grid_SVR.fit(X_train,y_train)\n",
    "print(\"The best score of Grid search for Simple SVM is \",grid_SVR.best_score_)\n",
    "print(\"The best estimator of Grid search for Simple SVM is \",grid_SVR.best_estimator_)"
   ]
  },
  {
   "cell_type": "code",
   "execution_count": 55,
   "metadata": {},
   "outputs": [
    {
     "name": "stdout",
     "output_type": "stream",
     "text": [
      "The best score of Grid search for Polynomial SVM is  0.18319273220744442\n",
      "The best estimator of Grid search for Polynomial SVM is  SVR(C=100, kernel='poly')\n"
     ]
    }
   ],
   "source": [
    "# Polynomial Kernel\n",
    "param_grid = {'C' : [0.001, 0.01, 0.1, 1 ,5, 10, 100]}\n",
    "model = SVR(kernel=\"poly\")\n",
    "grid_SVR = GridSearchCV(estimator=model, param_grid=param_grid,scoring =\"r2\")\n",
    "grid_SVR.fit(X_train,y_train)\n",
    "print(\"The best score of Grid search for Polynomial SVM is \",grid_SVR.best_score_)\n",
    "print(\"The best estimator of Grid search for Polynomial SVM is \",grid_SVR.best_estimator_)"
   ]
  },
  {
   "cell_type": "code",
   "execution_count": 56,
   "metadata": {},
   "outputs": [
    {
     "name": "stdout",
     "output_type": "stream",
     "text": [
      "The best score of Grid search for RBF SVM is  0.4116443590138542\n",
      "The best estimator of Grid search for RBF SVM is  SVR(C=100)\n"
     ]
    }
   ],
   "source": [
    "# RBF Kernel\n",
    "param_grid = {'C' : [0.001, 0.01, 0.1, 1 ,5, 10, 100]}\n",
    "model = SVR(kernel=\"rbf\")\n",
    "grid_SVR = GridSearchCV(estimator=model, param_grid=param_grid,scoring =\"r2\")\n",
    "grid_SVR.fit(X_train,y_train)\n",
    "print(\"The best score of Grid search for RBF SVM is \",grid_SVR.best_score_)\n",
    "print(\"The best estimator of Grid search for RBF SVM is \",grid_SVR.best_estimator_)"
   ]
  },
  {
   "cell_type": "code",
   "execution_count": null,
   "metadata": {},
   "outputs": [],
   "source": [
    "# Linear Kernel\n",
    "param_grid = {'C' : [0.001, 0.01, 0.1, 1 ,5, 10, 100]}\n",
    "model = SVR(kernel=\"linear\")\n",
    "grid_SVR = GridSearchCV(estimator=model, param_grid=param_grid,scoring =\"r2\")\n",
    "grid_SVR.fit(X_train,y_train)\n",
    "print(\"The best score of Grid search for Linear SVM is \",grid_SVR.best_score_)\n",
    "print(\"The best estimator of Grid search for Linear SVM is \",grid_SVR.best_estimator_)"
   ]
  },
  {
   "cell_type": "markdown",
   "metadata": {},
   "source": [
    "# Support Vector Regression"
   ]
  },
  {
   "cell_type": "code",
   "execution_count": 57,
   "metadata": {},
   "outputs": [
    {
     "name": "stdout",
     "output_type": "stream",
     "text": [
      "\n",
      "Train score:  0.21\n",
      "Test score:  0.34\n",
      "RMSE SVR Regressor:  0.7122504380859348\n"
     ]
    }
   ],
   "source": [
    "# Running Support Vector Regression Overe the Data with C 100 and Gamma as 0.01\n",
    "reg_SVR = SVR(C=100, kernel='linear', gamma = .01)\n",
    "reg_SVR.fit(X_train, y_train)\n",
    "reg_pred = reg_SVR.predict(X_test)\n",
    "\n",
    "SVR_reg_train_score = round((reg_SVR.score(X_train, y_train)),2)\n",
    "SVR_reg_test_score= round((reg_SVR.score(X_test, y_test)),2)\n",
    "print(\"\\nTrain score: \",SVR_reg_train_score)\n",
    "print(\"Test score: \",SVR_reg_test_score)\n",
    "\n",
    "rmse_SVR = np.sqrt(mean_squared_error(reg_pred, y_test)**2)\n",
    "print(\"RMSE SVR Regressor: \",rmse_SVR)"
   ]
  },
  {
   "cell_type": "code",
   "execution_count": 58,
   "metadata": {},
   "outputs": [
    {
     "name": "stdout",
     "output_type": "stream",
     "text": [
      "\n",
      "Mean Train score:  -1.568793262017626\n",
      "Mean Test score:  0.270418987495431\n"
     ]
    }
   ],
   "source": [
    "train_scores = []\n",
    "test_scores = []\n",
    "train_scores.append(cross_val_score(reg_SVR,X_train,y_train,cv=10))\n",
    "test_scores.append(cross_val_score(reg_SVR,X_test,y_test,cv=10))\n",
    "\n",
    "print(\"\\nMean Train score: \",np.mean(train_scores))\n",
    "print(\"Mean Test score: \",np.mean(test_scores))"
   ]
  },
  {
   "cell_type": "markdown",
   "metadata": {},
   "source": [
    "# KNN Regressor"
   ]
  },
  {
   "cell_type": "code",
   "execution_count": 59,
   "metadata": {},
   "outputs": [
    {
     "name": "stdout",
     "output_type": "stream",
     "text": [
      "{'n_neighbors': 4}\n",
      "KNeighborsRegressor(n_neighbors=4)\n",
      "{'n_neighbors': 4}\n",
      "KNeighborsRegressor(n_neighbors=4)\n"
     ]
    }
   ],
   "source": [
    "#K- Neighbours Regressor\n",
    "k_range = list(range(1,10))\n",
    "weight_options = [\"uniform\", \"distance\"]\n",
    "\n",
    "param_grid = dict(n_neighbors = k_range)\n",
    "\n",
    "\n",
    "knn = KNeighborsRegressor()\n",
    "\n",
    "gridknn = GridSearchCV(knn, param_grid, cv = 10)\n",
    "gridknn.fit(X_train,y_train)\n",
    "print (gridknn.best_params_)\n",
    "print (gridknn.best_estimator_)\n",
    "k_range = list(range(1,10))\n",
    "weight_options = [\"uniform\", \"distance\"]\n",
    "\n",
    "param_grid = dict(n_neighbors = k_range)\n",
    "\n",
    "\n",
    "knn = KNeighborsRegressor()\n",
    "\n",
    "gridknn = GridSearchCV(knn, param_grid, cv = 10)\n",
    "gridknn.fit(X_train,y_train)\n",
    "print (gridknn.best_params_)\n",
    "print (gridknn.best_estimator_)"
   ]
  },
  {
   "cell_type": "code",
   "execution_count": 60,
   "metadata": {},
   "outputs": [
    {
     "name": "stdout",
     "output_type": "stream",
     "text": [
      "\n",
      "Train score:  0.59\n",
      "Test score:  0.18\n",
      "RMSE kNN Regressor:  0.8922393189466848\n"
     ]
    }
   ],
   "source": [
    "# As we calculated that the value for n should be 4, hence running KNN with n = 4\n",
    "knn_reg = KNeighborsRegressor(gridknn.best_params_['n_neighbors'])\n",
    "knn_reg.fit(X_train, y_train)\n",
    "\n",
    "knn_reg_train_score = round((knn_reg.score(X_train, y_train)),2)\n",
    "print(\"\\nTrain score: \",knn_reg_train_score)\n",
    "knn_reg_test_score= round((knn_reg.score(X_test, y_test)),2)\n",
    "print(\"Test score: \",knn_reg_test_score)\n",
    "\n",
    "\n",
    "y_pred_test = knn_reg.predict(X_test)\n",
    "rmse_knn = np.sqrt(mean_squared_error(y_pred_test, y_test)**2)\n",
    "print(\"RMSE kNN Regressor: \",rmse_knn)"
   ]
  },
  {
   "cell_type": "code",
   "execution_count": 61,
   "metadata": {},
   "outputs": [
    {
     "name": "stdout",
     "output_type": "stream",
     "text": [
      "\n",
      "Mean Train score:  0.3024261072555681\n",
      "Mean Test score:  0.21902514842823292\n"
     ]
    }
   ],
   "source": [
    "train_scores = []\n",
    "test_scores = []\n",
    "for k in range(1,10):\n",
    "    train_scores.append(cross_val_score(KNeighborsRegressor(k),X_train,y_train,cv=10))\n",
    "    test_scores.append(cross_val_score(KNeighborsRegressor(k),X_test,y_test,cv=10))\n",
    "print(\"\\nMean Train score: \",np.mean(train_scores))\n",
    "print(\"Mean Test score: \",np.mean(test_scores))"
   ]
  },
  {
   "cell_type": "code",
   "execution_count": 62,
   "metadata": {},
   "outputs": [
    {
     "data": {
      "text/plain": [
       "Text(0, 0.5, 'MSE')"
      ]
     },
     "execution_count": 62,
     "metadata": {},
     "output_type": "execute_result"
    },
    {
     "data": {
      "image/png": "[encoded data removed]",
      "text/plain": [
       "<Figure size 432x288 with 1 Axes>"
      ]
     },
     "metadata": {
      "needs_background": "light"
     },
     "output_type": "display_data"
    }
   ],
   "source": [
    "# Plot comparing training as test scores for KNN model\n",
    "%matplotlib inline\n",
    "train_score_array = []\n",
    "test_score_array = []\n",
    "\n",
    "x_axis = np.array([1,2,3,4,5,6,7,8,9,10])\n",
    "plt.plot(x_axis, np.array(train_scores[0]).reshape(-1,1), c = 'g', label = 'Train Score')\n",
    "plt.plot(x_axis, np.array(test_scores[0]).reshape(-1,1), c = 'b', label = 'Test Score')\n",
    "plt.legend()\n",
    "plt.xlabel('k')\n",
    "plt.ylabel('MSE')"
   ]
  },
  {
   "cell_type": "markdown",
   "metadata": {},
   "source": [
    "# Polynomial Regression"
   ]
  },
  {
   "cell_type": "code",
   "execution_count": 63,
   "metadata": {},
   "outputs": [
    {
     "name": "stdout",
     "output_type": "stream",
     "text": [
      "Best degree:  2\n",
      "Best score:  0.4777643006211451\n"
     ]
    }
   ],
   "source": [
    "# Polynomial Hyperparameter selection to run Polynomial Regression\n",
    "from sklearn.pipeline import make_pipeline\n",
    "from sklearn.model_selection import GridSearchCV\n",
    "from sklearn.linear_model import LinearRegression\n",
    "\n",
    "def PolynomialRegression(degree=2, **kwargs):\n",
    "    return make_pipeline(PolynomialFeatures(degree), LinearRegression(**kwargs))\n",
    "\n",
    "param_grid = {'polynomialfeatures__degree': np.arange(4), 'linearregression__fit_intercept': [True, False], 'linearregression__normalize': [True, False]}\n",
    "poly_grid = GridSearchCV(PolynomialRegression(), param_grid, cv=5)\n",
    "poly_grid.fit(X_train, y_train)\n",
    "\n",
    "print(\"Best degree: \",poly_grid.best_params_['polynomialfeatures__degree'])\n",
    "print(\"Best score: \",poly_grid.best_score_)"
   ]
  },
  {
   "cell_type": "code",
   "execution_count": 64,
   "metadata": {},
   "outputs": [
    {
     "name": "stdout",
     "output_type": "stream",
     "text": [
      "0.5\n",
      "0.47\n",
      "RMSE POLY:  0.5741361810536304\n"
     ]
    }
   ],
   "source": [
    "# Runnign Polynomial Regression with Degree as 2 as predicted by hyperparameter tuning\n",
    "poly = PolynomialFeatures(degree=2)\n",
    "X_train_poly = poly.fit_transform(X_train)\n",
    "X_test_poly = poly.transform(X_test)\n",
    "linear_reg.fit(X_train_poly, y_train)\n",
    "poly_score_train = round((linear_reg.score(X_train_poly, y_train)),2)\n",
    "print(poly_score_train)\n",
    "poly_score_test = round((linear_reg.score(X_test_poly, y_test)),2)\n",
    "print(poly_score_test)\n",
    "\n",
    "y_pred_poly_test = poly_grid.predict(X_test)\n",
    "rmse_poly = np.sqrt(mean_squared_error(y_pred_poly_test, y_test)**2)\n",
    "print(\"RMSE POLY: \",rmse_poly)"
   ]
  },
  {
   "cell_type": "code",
   "execution_count": 65,
   "metadata": {},
   "outputs": [
    {
     "name": "stdout",
     "output_type": "stream",
     "text": [
      "\n",
      "Mean Train score:  0.4777643006212305\n",
      "Mean Test score:  0.4602039275085608\n"
     ]
    }
   ],
   "source": [
    "polytrain_score = []\n",
    "polytest_score =[]\n",
    "polytrain_score.append(cross_val_score(poly_grid,X_train,y_train,cv=5))\n",
    "\n",
    "\n",
    "polytest_score.append(cross_val_score(poly_grid,X_test,y_test,cv=5))\n",
    "\n",
    "print(\"\\nMean Train score: \",np.mean(polytrain_score))\n",
    "print(\"Mean Test score: \",np.mean(polytest_score))"
   ]
  },
  {
   "cell_type": "markdown",
   "metadata": {},
   "source": [
    "# Decision Tree Regressor"
   ]
  },
  {
   "cell_type": "code",
   "execution_count": 67,
   "metadata": {},
   "outputs": [
    {
     "name": "stdout",
     "output_type": "stream",
     "text": [
      "\n",
      "Mean Train score: 0.28803177231555976\n",
      "score without cv: 0.8042368942347695\n"
     ]
    }
   ],
   "source": [
    "# Finding the Mean Train scores with and without Cross Validation using Decision Tree Regressor\n",
    "from sklearn.tree import DecisionTreeRegressor\n",
    "dt = DecisionTreeRegressor(random_state=0, criterion=\"mae\")\n",
    "dt_fit = dt.fit(X_train, y_train)\n",
    "\n",
    "dt_scores = cross_val_score(dt_fit, X_train, y_train, cv = 5)\n",
    "print(\"\\nMean Train score: {}\".format(np.mean(dt_scores)))\n",
    "print(\"score without cv: {}\".format(dt_fit.score(X_train, y_train)))"
   ]
  },
  {
   "cell_type": "code",
   "execution_count": 68,
   "metadata": {},
   "outputs": [
    {
     "name": "stdout",
     "output_type": "stream",
     "text": [
      "R-squared score (training): 0.817\n",
      "R-squared score (test): -0.038\n"
     ]
    }
   ],
   "source": [
    "# Finding the R-squared scores for training data and test data for Decision Tree Regressor\n",
    "from sklearn.tree import DecisionTreeRegressor\n",
    "DTree = DecisionTreeRegressor(min_samples_leaf = .0001)\n",
    "DTree.fit(X_train,y_train)\n",
    "\n",
    "print('R-squared score (training): {:.3f}'.format(DTree.score(X_train, y_train)))\n",
    "print('R-squared score (test): {:.3f}'.format(DTree.score(X_test, y_test)))"
   ]
  },
  {
   "cell_type": "markdown",
   "metadata": {},
   "source": [
    "# Selection of best model\n",
    "\n"
   ]
  },
  {
   "cell_type": "code",
   "execution_count": 69,
   "metadata": {},
   "outputs": [
    {
     "data": {
      "text/html": [
       "<div>\n",
       "<style scoped>\n",
       "    .dataframe tbody tr th:only-of-type {\n",
       "        vertical-align: middle;\n",
       "    }\n",
       "\n",
       "    .dataframe tbody tr th {\n",
       "        vertical-align: top;\n",
       "    }\n",
       "\n",
       "    .dataframe thead th {\n",
       "        text-align: right;\n",
       "    }\n",
       "</style>\n",
       "<table border=\"1\" class=\"dataframe\">\n",
       "  <thead>\n",
       "    <tr style=\"text-align: right;\">\n",
       "      <th></th>\n",
       "      <th>Models</th>\n",
       "      <th>Train_Score</th>\n",
       "      <th>Test_Score</th>\n",
       "      <th>RMSE</th>\n",
       "    </tr>\n",
       "  </thead>\n",
       "  <tbody>\n",
       "    <tr>\n",
       "      <th>5</th>\n",
       "      <td>Polynomial Regression</td>\n",
       "      <td>0.50</td>\n",
       "      <td>0.47</td>\n",
       "      <td>0.574136</td>\n",
       "    </tr>\n",
       "    <tr>\n",
       "      <th>0</th>\n",
       "      <td>Linear Regression</td>\n",
       "      <td>0.42</td>\n",
       "      <td>0.42</td>\n",
       "      <td>0.631354</td>\n",
       "    </tr>\n",
       "    <tr>\n",
       "      <th>1</th>\n",
       "      <td>Ridge Regression</td>\n",
       "      <td>0.42</td>\n",
       "      <td>0.42</td>\n",
       "      <td>0.631369</td>\n",
       "    </tr>\n",
       "    <tr>\n",
       "      <th>2</th>\n",
       "      <td>Lasso Regression</td>\n",
       "      <td>0.42</td>\n",
       "      <td>0.42</td>\n",
       "      <td>0.631381</td>\n",
       "    </tr>\n",
       "    <tr>\n",
       "      <th>3</th>\n",
       "      <td>Support Vector Machine_Linear</td>\n",
       "      <td>0.21</td>\n",
       "      <td>0.34</td>\n",
       "      <td>0.712250</td>\n",
       "    </tr>\n",
       "    <tr>\n",
       "      <th>4</th>\n",
       "      <td>K-Nearest Neighbors</td>\n",
       "      <td>0.59</td>\n",
       "      <td>0.18</td>\n",
       "      <td>0.892239</td>\n",
       "    </tr>\n",
       "  </tbody>\n",
       "</table>\n",
       "</div>"
      ],
      "text/plain": [
       "                          Models  Train_Score  Test_Score      RMSE\n",
       "5          Polynomial Regression         0.50        0.47  0.574136\n",
       "0              Linear Regression         0.42        0.42  0.631354\n",
       "1               Ridge Regression         0.42        0.42  0.631369\n",
       "2               Lasso Regression         0.42        0.42  0.631381\n",
       "3  Support Vector Machine_Linear         0.21        0.34  0.712250\n",
       "4            K-Nearest Neighbors         0.59        0.18  0.892239"
      ]
     },
     "execution_count": 69,
     "metadata": {},
     "output_type": "execute_result"
    }
   ],
   "source": [
    "# Comparing the RMSE, Train Score and Test scores of all models run above to find the best model\n",
    "from sklearn.metrics import r2_score\n",
    "models = pd.DataFrame({\n",
    "                'Models': ['Linear Regression','Ridge Regression','Lasso Regression','Support Vector Machine_Linear','K-Nearest Neighbors','Polynomial Regression'],\n",
    "                'Train_Score':[linear_reg_score_train, ridge_score_train, lasso_score_train, SVR_reg_train_score, knn_reg_train_score, poly_score_train],\n",
    "                'Test_Score': [linear_reg_score_test, ridge_score_test, lasso_score_test, SVR_reg_test_score, knn_reg_test_score, poly_score_test],\n",
    "                'RMSE': [rmse_lreg, rmse_ridge, rmse_lasso,rmse_SVR, rmse_knn, rmse_poly ]   \n",
    "})\n",
    "models.sort_values(by='RMSE', ascending=True)"
   ]
  },
  {
   "cell_type": "markdown",
   "metadata": {},
   "source": [
    "# Best Model for Regression based on our dataset is:\n",
    "\n",
    "-> The Model Polynomial Regression provides us with the best predicition of prices when compared to all other models run above.\n",
    "-> The Polynomial Regression model with Train Score of 50% and Test Score of 47% and lowest Root Mean Square Error as 0.574 is the best model for out dataset to predict prices for Airbnb in New York City."
   ]
  },
  {
   "cell_type": "code",
   "execution_count": null,
   "metadata": {},
   "outputs": [],
   "source": []
  },
  {
   "cell_type": "code",
   "execution_count": null,
   "metadata": {},
   "outputs": [],
   "source": []
  },
  {
   "cell_type": "code",
   "execution_count": null,
   "metadata": {},
   "outputs": [],
   "source": []
  },
  {
   "cell_type": "code",
   "execution_count": null,
   "metadata": {},
   "outputs": [],
   "source": []
  }
 ],
 "metadata": {
  "kernelspec": {
   "display_name": "Python 3",
   "language": "python",
   "name": "python3"
  },
  "language_info": {
   "codemirror_mode": {
    "name": "ipython",
    "version": 3
   },
   "file_extension": ".py",
   "mimetype": "text/x-python",
   "name": "python",
   "nbconvert_exporter": "python",
   "pygments_lexer": "ipython3",
   "version": "3.8.5"
  }
 },
 "nbformat": 4,
 "nbformat_minor": 4
}
